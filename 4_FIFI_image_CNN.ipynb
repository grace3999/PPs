{
  "nbformat": 4,
  "nbformat_minor": 0,
  "metadata": {
    "colab": {
      "name": "4_FIFI_image_CNN.ipynb",
      "provenance": [],
      "collapsed_sections": [],
      "include_colab_link": true
    },
    "kernelspec": {
      "name": "python3",
      "display_name": "Python 3"
    },
    "accelerator": "GPU"
  },
  "cells": [
    {
      "cell_type": "markdown",
      "metadata": {
        "id": "view-in-github",
        "colab_type": "text"
      },
      "source": [
        "<a href=\"https://colab.research.google.com/github/grace3999/PPs/blob/master/4_FIFI_image_CNN.ipynb\" target=\"_parent\"><img src=\"https://colab.research.google.com/assets/colab-badge.svg\" alt=\"Open In Colab\"/></a>"
      ]
    },
    {
      "cell_type": "code",
      "metadata": {
        "id": "muw3FEkPP6Px",
        "colab_type": "code",
        "outputId": "a030c2b5-44f4-471c-e337-18ea0a7bba22",
        "colab": {
          "base_uri": "https://localhost:8080/",
          "height": 122
        }
      },
      "source": [
        "#mount google drive containings required files: 1) csv of annotation features, 2) netcdf files\n",
        "from google.colab import drive\n",
        "drive.mount('/content/gdrive')"
      ],
      "execution_count": 1,
      "outputs": [
        {
          "output_type": "stream",
          "text": [
            "Go to this URL in a browser: https://accounts.google.com/o/oauth2/auth?client_id=947318989803-6bn6qk8qdgf4n4g3pfee6491hc0brc4i.apps.googleusercontent.com&redirect_uri=urn%3aietf%3awg%3aoauth%3a2.0%3aoob&response_type=code&scope=email%20https%3a%2f%2fwww.googleapis.com%2fauth%2fdocs.test%20https%3a%2f%2fwww.googleapis.com%2fauth%2fdrive%20https%3a%2f%2fwww.googleapis.com%2fauth%2fdrive.photos.readonly%20https%3a%2f%2fwww.googleapis.com%2fauth%2fpeopleapi.readonly\n",
            "\n",
            "Enter your authorization code:\n",
            "··········\n",
            "Mounted at /content/gdrive\n"
          ],
          "name": "stdout"
        }
      ]
    },
    {
      "cell_type": "code",
      "metadata": {
        "id": "GH7kQz7BQBza",
        "colab_type": "code",
        "colab": {}
      },
      "source": [
        "import numpy as np\n",
        "import pandas as pd\n",
        "import os\n",
        "import requests \n",
        "from multiprocessing.pool import ThreadPool\n",
        "\n",
        "pd.set_option('display.max_rows', 500)\n",
        "pd.set_option('display.max_columns', 500)\n",
        "pd.set_option('display.width', 1000)\n",
        "pd.set_option('display.max_colwidth', -1)\n",
        "\n",
        "import warnings; warnings.simplefilter('ignore')\n",
        "np.set_printoptions(suppress=True)"
      ],
      "execution_count": 0,
      "outputs": []
    },
    {
      "cell_type": "code",
      "metadata": {
        "id": "EO1-PyZyQeyZ",
        "colab_type": "code",
        "colab": {}
      },
      "source": [
        "#path for FIFI cleaned and preprocessed data frame\n",
        "path_FIFI = '/content/gdrive/My Drive/WIDS_FIFI_groupproject/generated_datasets/data_final.pkl'"
      ],
      "execution_count": 0,
      "outputs": []
    },
    {
      "cell_type": "code",
      "metadata": {
        "id": "7ItIECj1YvMR",
        "colab_type": "code",
        "outputId": "65fa577e-636e-4623-93c9-31755800a69d",
        "colab": {
          "base_uri": "https://localhost:8080/",
          "height": 559
        }
      },
      "source": [
        "#read in pkl file containing \n",
        "data = pd.read_pickle(path_FIFI)\n",
        "data = pd.DataFrame(data = data)\n",
        "data.reset_index(inplace=True, drop=True)\n",
        "\n",
        "print('Original data shape:\\n', data.shape, '\\n')\n",
        "print('Original data columns:\\n', data.columns.values, '\\n')\n",
        "\n",
        "data = data[data['FIFI_category'] != 'Community Walk']\n",
        "\n",
        "data['FIFI_category'] = data['FIFI_category'].replace({'Needles/Dumping': 'Needles_Dumping', 'Sign/Signal': 'Sign_Signal'})\n",
        "\n",
        "data.head(1)"
      ],
      "execution_count": 4,
      "outputs": [
        {
          "output_type": "stream",
          "text": [
            "Original data shape:\n",
            " (248815, 67) \n",
            "\n",
            "Original data columns:\n",
            " ['Service_Request_Number' 'Created_Date' 'Location' 'Location_Details'\n",
            " 'Description' 'License_Number' 'State' 'Vehicle_Make' 'Vehicle_Color'\n",
            " 'Time_parked' 'Photo' 'FIFI_category' 'Location_Details.1'\n",
            " 'Property_damage?' 'Current_Issue' 'Type_of_animal'\n",
            " 'On_private_property?' 'Graffiti_location' 'Location_and_Description'\n",
            " 'Obscene/Racial/Hateful?' 'Street/Intersection' 'Where?' 'Type_of_item?'\n",
            " 'Veg_location' 'Vegetation_Safety_Issue' 'Parking_Violation_Concerning'\n",
            " 'License_Plate_Number' 'Location_details' '7_digit_number_on_pole'\n",
            " 'Issue' 'date' 'year' 'month' 'day' 'day_of_week' 'hour' 'zip'\n",
            " 'neighborhood' 'SittingInformal' 'Lying' 'DisruptiveActivity_Aggressive'\n",
            " 'DisruptiveActivity_Intoxicated' 'LivingActivities' 'Soliciting'\n",
            " 'overdose' 'pop' 'pop_dens' 'housing_units' 'med_home' 'land_area'\n",
            " 'occupied_units' 'occupied_ratio' 'med_income' 'med_age' 'male_%'\n",
            " 'white_%' 'fam_%' 'nokid_%' 'mortgage_%' 'fulltime_%' 'unemploy'\n",
            " 'drive_%' 'publictrans_%' 'other_%' 'wrk_travel' 'city council'\n",
            " 'county council'] \n",
            "\n"
          ],
          "name": "stdout"
        },
        {
          "output_type": "execute_result",
          "data": {
            "text/html": [
              "<div>\n",
              "<style scoped>\n",
              "    .dataframe tbody tr th:only-of-type {\n",
              "        vertical-align: middle;\n",
              "    }\n",
              "\n",
              "    .dataframe tbody tr th {\n",
              "        vertical-align: top;\n",
              "    }\n",
              "\n",
              "    .dataframe thead th {\n",
              "        text-align: right;\n",
              "    }\n",
              "</style>\n",
              "<table border=\"1\" class=\"dataframe\">\n",
              "  <thead>\n",
              "    <tr style=\"text-align: right;\">\n",
              "      <th></th>\n",
              "      <th>Service_Request_Number</th>\n",
              "      <th>Created_Date</th>\n",
              "      <th>Location</th>\n",
              "      <th>Location_Details</th>\n",
              "      <th>Description</th>\n",
              "      <th>License_Number</th>\n",
              "      <th>State</th>\n",
              "      <th>Vehicle_Make</th>\n",
              "      <th>Vehicle_Color</th>\n",
              "      <th>Time_parked</th>\n",
              "      <th>Photo</th>\n",
              "      <th>FIFI_category</th>\n",
              "      <th>Location_Details.1</th>\n",
              "      <th>Property_damage?</th>\n",
              "      <th>Current_Issue</th>\n",
              "      <th>Type_of_animal</th>\n",
              "      <th>On_private_property?</th>\n",
              "      <th>Graffiti_location</th>\n",
              "      <th>Location_and_Description</th>\n",
              "      <th>Obscene/Racial/Hateful?</th>\n",
              "      <th>Street/Intersection</th>\n",
              "      <th>Where?</th>\n",
              "      <th>Type_of_item?</th>\n",
              "      <th>Veg_location</th>\n",
              "      <th>Vegetation_Safety_Issue</th>\n",
              "      <th>Parking_Violation_Concerning</th>\n",
              "      <th>License_Plate_Number</th>\n",
              "      <th>Location_details</th>\n",
              "      <th>7_digit_number_on_pole</th>\n",
              "      <th>Issue</th>\n",
              "      <th>date</th>\n",
              "      <th>year</th>\n",
              "      <th>month</th>\n",
              "      <th>day</th>\n",
              "      <th>day_of_week</th>\n",
              "      <th>hour</th>\n",
              "      <th>zip</th>\n",
              "      <th>neighborhood</th>\n",
              "      <th>SittingInformal</th>\n",
              "      <th>Lying</th>\n",
              "      <th>DisruptiveActivity_Aggressive</th>\n",
              "      <th>DisruptiveActivity_Intoxicated</th>\n",
              "      <th>LivingActivities</th>\n",
              "      <th>Soliciting</th>\n",
              "      <th>overdose</th>\n",
              "      <th>pop</th>\n",
              "      <th>pop_dens</th>\n",
              "      <th>housing_units</th>\n",
              "      <th>med_home</th>\n",
              "      <th>land_area</th>\n",
              "      <th>occupied_units</th>\n",
              "      <th>occupied_ratio</th>\n",
              "      <th>med_income</th>\n",
              "      <th>med_age</th>\n",
              "      <th>male_%</th>\n",
              "      <th>white_%</th>\n",
              "      <th>fam_%</th>\n",
              "      <th>nokid_%</th>\n",
              "      <th>mortgage_%</th>\n",
              "      <th>fulltime_%</th>\n",
              "      <th>unemploy</th>\n",
              "      <th>drive_%</th>\n",
              "      <th>publictrans_%</th>\n",
              "      <th>other_%</th>\n",
              "      <th>wrk_travel</th>\n",
              "      <th>city council</th>\n",
              "      <th>county council</th>\n",
              "    </tr>\n",
              "  </thead>\n",
              "  <tbody>\n",
              "    <tr>\n",
              "      <th>0</th>\n",
              "      <td>13-00036779</td>\n",
              "      <td>2013-05-09 20:32:33</td>\n",
              "      <td>5208 BEACON AVE S, SEATTLE, WA</td>\n",
              "      <td>5200 Beacon Ave S Seattle, WA 98108; XY: 1277537.1732614825, 206078.498081425; LatLng: 47.555513, -122.302999</td>\n",
              "      <td>Ford light blue</td>\n",
              "      <td>AHZ9829</td>\n",
              "      <td>NaN</td>\n",
              "      <td>Ford</td>\n",
              "      <td>Blue</td>\n",
              "      <td>Over 3 Days</td>\n",
              "      <td>NaN</td>\n",
              "      <td>Abnd_Vehicle</td>\n",
              "      <td>NaN</td>\n",
              "      <td>NaN</td>\n",
              "      <td>NaN</td>\n",
              "      <td>NaN</td>\n",
              "      <td>NaN</td>\n",
              "      <td>NaN</td>\n",
              "      <td>NaN</td>\n",
              "      <td>NaN</td>\n",
              "      <td>NaN</td>\n",
              "      <td>NaN</td>\n",
              "      <td>NaN</td>\n",
              "      <td>NaN</td>\n",
              "      <td>NaN</td>\n",
              "      <td>NaN</td>\n",
              "      <td>NaN</td>\n",
              "      <td>NaN</td>\n",
              "      <td>NaN</td>\n",
              "      <td>NaN</td>\n",
              "      <td>2013-05-09</td>\n",
              "      <td>2013</td>\n",
              "      <td>5</td>\n",
              "      <td>9</td>\n",
              "      <td>Thursday</td>\n",
              "      <td>20</td>\n",
              "      <td>WA</td>\n",
              "      <td>WA</td>\n",
              "      <td>NaN</td>\n",
              "      <td>NaN</td>\n",
              "      <td>NaN</td>\n",
              "      <td>NaN</td>\n",
              "      <td>NaN</td>\n",
              "      <td>NaN</td>\n",
              "      <td>NaN</td>\n",
              "      <td>NaN</td>\n",
              "      <td>NaN</td>\n",
              "      <td>NaN</td>\n",
              "      <td>NaN</td>\n",
              "      <td>NaN</td>\n",
              "      <td>NaN</td>\n",
              "      <td>NaN</td>\n",
              "      <td>NaN</td>\n",
              "      <td>NaN</td>\n",
              "      <td>NaN</td>\n",
              "      <td>NaN</td>\n",
              "      <td>NaN</td>\n",
              "      <td>NaN</td>\n",
              "      <td>NaN</td>\n",
              "      <td>NaN</td>\n",
              "      <td>NaN</td>\n",
              "      <td>NaN</td>\n",
              "      <td>NaN</td>\n",
              "      <td>NaN</td>\n",
              "      <td>NaN</td>\n",
              "      <td>NaN</td>\n",
              "      <td>NaN</td>\n",
              "    </tr>\n",
              "  </tbody>\n",
              "</table>\n",
              "</div>"
            ],
            "text/plain": [
              "  Service_Request_Number        Created_Date                         Location                                                                                               Location_Details      Description License_Number State Vehicle_Make Vehicle_Color  Time_parked Photo FIFI_category Location_Details.1 Property_damage? Current_Issue Type_of_animal On_private_property? Graffiti_location Location_and_Description Obscene/Racial/Hateful? Street/Intersection Where? Type_of_item? Veg_location Vegetation_Safety_Issue Parking_Violation_Concerning License_Plate_Number Location_details  7_digit_number_on_pole Issue        date  year  month  day day_of_week  hour zip neighborhood  SittingInformal  Lying  DisruptiveActivity_Aggressive  DisruptiveActivity_Intoxicated  LivingActivities  Soliciting  overdose  pop  pop_dens  housing_units  med_home  land_area  occupied_units  occupied_ratio  med_income  med_age  male_%  white_%  fam_%  nokid_%  mortgage_%  fulltime_%  unemploy  drive_%  \\\n",
              "0  13-00036779           2013-05-09 20:32:33  5208 BEACON AVE S, SEATTLE, WA   5200 Beacon Ave S Seattle, WA 98108; XY: 1277537.1732614825, 206078.498081425; LatLng: 47.555513, -122.302999  Ford light blue  AHZ9829        NaN   Ford         Blue          Over 3 Days  NaN   Abnd_Vehicle  NaN                NaN              NaN           NaN            NaN                  NaN               NaN                      NaN                     NaN                 NaN    NaN           NaN          NaN                     NaN                          NaN                  NaN             NaN                      NaN   2013-05-09  2013  5      9    Thursday    20    WA  WA          NaN              NaN    NaN                            NaN                             NaN               NaN         NaN       NaN  NaN       NaN            NaN       NaN        NaN             NaN             NaN         NaN      NaN     NaN      NaN    NaN      NaN         NaN         NaN       NaN        \n",
              "\n",
              "   publictrans_%  other_%  wrk_travel  city council  county council  \n",
              "0 NaN            NaN      NaN         NaN           NaN              "
            ]
          },
          "metadata": {
            "tags": []
          },
          "execution_count": 4
        }
      ]
    },
    {
      "cell_type": "code",
      "metadata": {
        "id": "pXmb1Vd1YvTr",
        "colab_type": "code",
        "outputId": "3ea06111-3675-4066-b137-66604a42dd66",
        "colab": {
          "base_uri": "https://localhost:8080/",
          "height": 270
        }
      },
      "source": [
        "#we are only interested in FIFI requests that have a photo included with the request\n",
        "print(data.shape)\n",
        "data_photo = data[~data['Photo'].isna()]\n",
        "print(data_photo.shape)\n",
        "data_photo.head(1)"
      ],
      "execution_count": 5,
      "outputs": [
        {
          "output_type": "stream",
          "text": [
            "(248661, 67)\n",
            "(183278, 67)\n"
          ],
          "name": "stdout"
        },
        {
          "output_type": "execute_result",
          "data": {
            "text/html": [
              "<div>\n",
              "<style scoped>\n",
              "    .dataframe tbody tr th:only-of-type {\n",
              "        vertical-align: middle;\n",
              "    }\n",
              "\n",
              "    .dataframe tbody tr th {\n",
              "        vertical-align: top;\n",
              "    }\n",
              "\n",
              "    .dataframe thead th {\n",
              "        text-align: right;\n",
              "    }\n",
              "</style>\n",
              "<table border=\"1\" class=\"dataframe\">\n",
              "  <thead>\n",
              "    <tr style=\"text-align: right;\">\n",
              "      <th></th>\n",
              "      <th>Service_Request_Number</th>\n",
              "      <th>Created_Date</th>\n",
              "      <th>Location</th>\n",
              "      <th>Location_Details</th>\n",
              "      <th>Description</th>\n",
              "      <th>License_Number</th>\n",
              "      <th>State</th>\n",
              "      <th>Vehicle_Make</th>\n",
              "      <th>Vehicle_Color</th>\n",
              "      <th>Time_parked</th>\n",
              "      <th>Photo</th>\n",
              "      <th>FIFI_category</th>\n",
              "      <th>Location_Details.1</th>\n",
              "      <th>Property_damage?</th>\n",
              "      <th>Current_Issue</th>\n",
              "      <th>Type_of_animal</th>\n",
              "      <th>On_private_property?</th>\n",
              "      <th>Graffiti_location</th>\n",
              "      <th>Location_and_Description</th>\n",
              "      <th>Obscene/Racial/Hateful?</th>\n",
              "      <th>Street/Intersection</th>\n",
              "      <th>Where?</th>\n",
              "      <th>Type_of_item?</th>\n",
              "      <th>Veg_location</th>\n",
              "      <th>Vegetation_Safety_Issue</th>\n",
              "      <th>Parking_Violation_Concerning</th>\n",
              "      <th>License_Plate_Number</th>\n",
              "      <th>Location_details</th>\n",
              "      <th>7_digit_number_on_pole</th>\n",
              "      <th>Issue</th>\n",
              "      <th>date</th>\n",
              "      <th>year</th>\n",
              "      <th>month</th>\n",
              "      <th>day</th>\n",
              "      <th>day_of_week</th>\n",
              "      <th>hour</th>\n",
              "      <th>zip</th>\n",
              "      <th>neighborhood</th>\n",
              "      <th>SittingInformal</th>\n",
              "      <th>Lying</th>\n",
              "      <th>DisruptiveActivity_Aggressive</th>\n",
              "      <th>DisruptiveActivity_Intoxicated</th>\n",
              "      <th>LivingActivities</th>\n",
              "      <th>Soliciting</th>\n",
              "      <th>overdose</th>\n",
              "      <th>pop</th>\n",
              "      <th>pop_dens</th>\n",
              "      <th>housing_units</th>\n",
              "      <th>med_home</th>\n",
              "      <th>land_area</th>\n",
              "      <th>occupied_units</th>\n",
              "      <th>occupied_ratio</th>\n",
              "      <th>med_income</th>\n",
              "      <th>med_age</th>\n",
              "      <th>male_%</th>\n",
              "      <th>white_%</th>\n",
              "      <th>fam_%</th>\n",
              "      <th>nokid_%</th>\n",
              "      <th>mortgage_%</th>\n",
              "      <th>fulltime_%</th>\n",
              "      <th>unemploy</th>\n",
              "      <th>drive_%</th>\n",
              "      <th>publictrans_%</th>\n",
              "      <th>other_%</th>\n",
              "      <th>wrk_travel</th>\n",
              "      <th>city council</th>\n",
              "      <th>county council</th>\n",
              "    </tr>\n",
              "  </thead>\n",
              "  <tbody>\n",
              "    <tr>\n",
              "      <th>1</th>\n",
              "      <td>13-00064098</td>\n",
              "      <td>2013-08-13 18:05:17</td>\n",
              "      <td>2629 SW ANDOVER ST, SEATTLE, WA</td>\n",
              "      <td>26012799 SW Andover St, Seattle; XY: 1261975.9119158287, 211063.7734459653; LatLng: 47.56828403207891, -122.3664187277485</td>\n",
              "      <td>NaN</td>\n",
              "      <td>Acxo217</td>\n",
              "      <td>NaN</td>\n",
              "      <td>Suzuki</td>\n",
              "      <td>Other</td>\n",
              "      <td>Over 1 Week</td>\n",
              "      <td>http://servicerequest.seattle.gov/media/seattle/report/photos/520ad788016358ed6cc31006/report.jpg</td>\n",
              "      <td>Abnd_Vehicle</td>\n",
              "      <td>NaN</td>\n",
              "      <td>NaN</td>\n",
              "      <td>NaN</td>\n",
              "      <td>NaN</td>\n",
              "      <td>NaN</td>\n",
              "      <td>NaN</td>\n",
              "      <td>NaN</td>\n",
              "      <td>NaN</td>\n",
              "      <td>NaN</td>\n",
              "      <td>NaN</td>\n",
              "      <td>NaN</td>\n",
              "      <td>NaN</td>\n",
              "      <td>NaN</td>\n",
              "      <td>NaN</td>\n",
              "      <td>NaN</td>\n",
              "      <td>NaN</td>\n",
              "      <td>NaN</td>\n",
              "      <td>NaN</td>\n",
              "      <td>2013-08-13</td>\n",
              "      <td>2013</td>\n",
              "      <td>8</td>\n",
              "      <td>13</td>\n",
              "      <td>Tuesday</td>\n",
              "      <td>18</td>\n",
              "      <td>WA</td>\n",
              "      <td>WA</td>\n",
              "      <td>NaN</td>\n",
              "      <td>NaN</td>\n",
              "      <td>NaN</td>\n",
              "      <td>NaN</td>\n",
              "      <td>NaN</td>\n",
              "      <td>NaN</td>\n",
              "      <td>NaN</td>\n",
              "      <td>NaN</td>\n",
              "      <td>NaN</td>\n",
              "      <td>NaN</td>\n",
              "      <td>NaN</td>\n",
              "      <td>NaN</td>\n",
              "      <td>NaN</td>\n",
              "      <td>NaN</td>\n",
              "      <td>NaN</td>\n",
              "      <td>NaN</td>\n",
              "      <td>NaN</td>\n",
              "      <td>NaN</td>\n",
              "      <td>NaN</td>\n",
              "      <td>NaN</td>\n",
              "      <td>NaN</td>\n",
              "      <td>NaN</td>\n",
              "      <td>NaN</td>\n",
              "      <td>NaN</td>\n",
              "      <td>NaN</td>\n",
              "      <td>NaN</td>\n",
              "      <td>NaN</td>\n",
              "      <td>NaN</td>\n",
              "      <td>NaN</td>\n",
              "    </tr>\n",
              "  </tbody>\n",
              "</table>\n",
              "</div>"
            ],
            "text/plain": [
              "  Service_Request_Number        Created_Date                         Location                                                                                                           Location_Details Description License_Number State Vehicle_Make Vehicle_Color  Time_parked                                                                                              Photo FIFI_category Location_Details.1 Property_damage? Current_Issue Type_of_animal On_private_property? Graffiti_location Location_and_Description Obscene/Racial/Hateful? Street/Intersection Where? Type_of_item? Veg_location Vegetation_Safety_Issue Parking_Violation_Concerning License_Plate_Number Location_details  7_digit_number_on_pole Issue        date  year  month  day day_of_week  hour zip neighborhood  SittingInformal  Lying  DisruptiveActivity_Aggressive  DisruptiveActivity_Intoxicated  LivingActivities  Soliciting  overdose  pop  pop_dens  housing_units  med_home  land_area  occupied_units  occupied_ratio  \\\n",
              "1  13-00064098           2013-08-13 18:05:17  2629 SW ANDOVER ST, SEATTLE, WA  26012799 SW Andover St, Seattle; XY: 1261975.9119158287, 211063.7734459653; LatLng: 47.56828403207891, -122.3664187277485  NaN         Acxo217        NaN   Suzuki       Other         Over 1 Week  http://servicerequest.seattle.gov/media/seattle/report/photos/520ad788016358ed6cc31006/report.jpg  Abnd_Vehicle  NaN                NaN              NaN           NaN            NaN                  NaN               NaN                      NaN                     NaN                 NaN    NaN           NaN          NaN                     NaN                          NaN                  NaN             NaN                      NaN   2013-08-13  2013  8      13   Tuesday     18    WA  WA          NaN              NaN    NaN                            NaN                             NaN               NaN         NaN       NaN  NaN       NaN            NaN       NaN        NaN             NaN               \n",
              "\n",
              "   med_income  med_age  male_%  white_%  fam_%  nokid_%  mortgage_%  fulltime_%  unemploy  drive_%  publictrans_%  other_%  wrk_travel  city council  county council  \n",
              "1 NaN         NaN      NaN     NaN      NaN    NaN      NaN         NaN         NaN       NaN      NaN            NaN      NaN         NaN           NaN              "
            ]
          },
          "metadata": {
            "tags": []
          },
          "execution_count": 5
        }
      ]
    },
    {
      "cell_type": "code",
      "metadata": {
        "id": "tfP1CrPFbk03",
        "colab_type": "code",
        "outputId": "41a39f40-9666-4675-ce3b-f77c7f92063c",
        "colab": {
          "base_uri": "https://localhost:8080/",
          "height": 221
        }
      },
      "source": [
        "data_photo['FIFI_category'].value_counts()"
      ],
      "execution_count": 6,
      "outputs": [
        {
          "output_type": "execute_result",
          "data": {
            "text/plain": [
              "Needles_Dumping    40265\n",
              "Other              34428\n",
              "Grafitti           31749\n",
              "Abnd_Vehicle       26656\n",
              "Parking            25140\n",
              "Pothole            13154\n",
              "Sign_Signal        8455 \n",
              "Streetlight        2943 \n",
              "Clogged_Drain      427  \n",
              "Vegetation         44   \n",
              "Dead Animal        17   \n",
              "Name: FIFI_category, dtype: int64"
            ]
          },
          "metadata": {
            "tags": []
          },
          "execution_count": 6
        }
      ]
    },
    {
      "cell_type": "code",
      "metadata": {
        "id": "nDjmJv82jn84",
        "colab_type": "code",
        "outputId": "7578cb6b-076d-4036-a55b-3e786b6cc14b",
        "colab": {
          "base_uri": "https://localhost:8080/",
          "height": 204
        }
      },
      "source": [
        "#create a directory for each category\n",
        "save_path = '/content/gdrive/My Drive/WIDS_FIFI_groupproject/photos_by_category/'\n",
        "\n",
        "cats_to_dl = ['Abnd_Vehicle', 'Grafitti', 'Needles_Dumping', 'Parking',\n",
        "       'Pothole', 'Streetlight', 'Other', 'Clogged_Drain', 'Dead Animal',\n",
        "       'Vegetation', 'Sign_Signal']\n",
        "\n",
        "#get and save photos according to FIFI_category\n",
        "for cat in cats_to_dl:\n",
        "    if os.path.exists(os.path.join(save_path, cat)) == True:\n",
        "      print(cat, \" already exists\")\n",
        "    else:\n",
        "      os.mkdir(os.path.join(save_path, cat))\n",
        "      print(cat, \" directory created\")"
      ],
      "execution_count": 7,
      "outputs": [
        {
          "output_type": "stream",
          "text": [
            "Abnd_Vehicle  directory created\n",
            "Grafitti  directory created\n",
            "Needles_Dumping  directory created\n",
            "Parking  already exists\n",
            "Pothole  already exists\n",
            "Streetlight  already exists\n",
            "Other  already exists\n",
            "Clogged_Drain  already exists\n",
            "Dead Animal  already exists\n",
            "Vegetation  already exists\n",
            "Sign_Signal  already exists\n"
          ],
          "name": "stdout"
        }
      ]
    },
    {
      "cell_type": "code",
      "metadata": {
        "id": "dLHGWjM0ch5H",
        "colab_type": "code",
        "outputId": "f4cabe14-45bd-432c-934e-b3676fb37e03",
        "colab": {
          "base_uri": "https://localhost:8080/",
          "height": 34
        }
      },
      "source": [
        "data_photo[data_photo['FIFI_category'] == 'Parking'].iloc[52]['Photo']"
      ],
      "execution_count": 21,
      "outputs": [
        {
          "output_type": "execute_result",
          "data": {
            "text/plain": [
              "'http://servicerequest.seattle.gov/media/seattle/report/photos/52153903016358ed6cc351ce/report.jpg'"
            ]
          },
          "metadata": {
            "tags": []
          },
          "execution_count": 21
        }
      ]
    },
    {
      "cell_type": "code",
      "metadata": {
        "id": "E5Ecdeuh0_NX",
        "colab_type": "code",
        "colab": {
          "base_uri": "https://localhost:8080/",
          "height": 1000
        },
        "outputId": "abf08dc6-3939-4edf-c2d2-72908fe1c5ba"
      },
      "source": [
        "os.listdir(save_path_cat)[-100:]"
      ],
      "execution_count": 17,
      "outputs": [
        {
          "output_type": "execute_result",
          "data": {
            "text/plain": [
              "['Streetlight_1063.jpeg',\n",
              " 'Streetlight_1049.jpeg',\n",
              " 'Streetlight_1011.jpeg',\n",
              " 'Streetlight_1066.jpeg',\n",
              " 'Streetlight_1002.jpeg',\n",
              " 'Streetlight_1033.jpeg',\n",
              " 'Streetlight_988.jpeg',\n",
              " 'Streetlight_1008.jpeg',\n",
              " 'Streetlight_1043.jpeg',\n",
              " 'Streetlight_1034.jpeg',\n",
              " 'Streetlight_1003.jpeg',\n",
              " 'Streetlight_1050.jpeg',\n",
              " 'Streetlight_991.jpeg',\n",
              " 'Streetlight_989.jpeg',\n",
              " 'Streetlight_1020.jpeg',\n",
              " 'Streetlight_992.jpeg',\n",
              " 'Streetlight_1019.jpeg',\n",
              " 'Streetlight_999.jpeg',\n",
              " 'Streetlight_1075.jpeg',\n",
              " 'Streetlight_990.jpeg',\n",
              " 'Streetlight_1026.jpeg',\n",
              " 'Streetlight_1062.jpeg',\n",
              " 'Streetlight_1014.jpeg',\n",
              " 'Streetlight_1035.jpeg',\n",
              " 'Streetlight_1044.jpeg',\n",
              " 'Streetlight_998.jpeg',\n",
              " 'Streetlight_1022.jpeg',\n",
              " 'Streetlight_1031.jpeg',\n",
              " 'Streetlight_1078.jpeg',\n",
              " 'Streetlight_1051.jpeg',\n",
              " 'Streetlight_1072.jpeg',\n",
              " 'Streetlight_1028.jpeg',\n",
              " 'Streetlight_1000.jpeg',\n",
              " 'Streetlight_1057.jpeg',\n",
              " 'Streetlight_1015.jpeg',\n",
              " 'Streetlight_1023.jpeg',\n",
              " 'Streetlight_1013.jpeg',\n",
              " 'Streetlight_1073.jpeg',\n",
              " 'Streetlight_997.jpeg',\n",
              " 'Streetlight_1048.jpeg',\n",
              " 'Streetlight_1065.jpeg',\n",
              " 'Streetlight_1055.jpeg',\n",
              " 'Streetlight_1038.jpeg',\n",
              " 'Streetlight_1016.jpeg',\n",
              " 'Streetlight_1052.jpeg',\n",
              " 'Streetlight_1037.jpeg',\n",
              " 'Streetlight_1071.jpeg',\n",
              " 'Streetlight_1012.jpeg',\n",
              " 'Streetlight_1010.jpeg',\n",
              " 'Streetlight_1021.jpeg',\n",
              " 'Streetlight_1030.jpeg',\n",
              " 'Streetlight_1068.jpeg',\n",
              " 'Streetlight_987.jpeg',\n",
              " 'Streetlight_1029.jpeg',\n",
              " 'Streetlight_1056.jpeg',\n",
              " 'Streetlight_1070.jpeg',\n",
              " 'Streetlight_1058.jpeg',\n",
              " 'Streetlight_1025.jpeg',\n",
              " 'Streetlight_986.jpeg',\n",
              " 'Streetlight_1069.jpeg',\n",
              " 'Streetlight_1036.jpeg',\n",
              " 'Streetlight_1189.jpeg',\n",
              " 'Streetlight_1040.jpeg',\n",
              " 'Streetlight_994.jpeg',\n",
              " 'Streetlight_1207.jpeg',\n",
              " 'Streetlight_1204.jpeg',\n",
              " 'Streetlight_1201.jpeg',\n",
              " 'Streetlight_1079.jpeg',\n",
              " 'Streetlight_1185.jpeg',\n",
              " 'Streetlight_1222.jpeg',\n",
              " 'Streetlight_1211.jpeg',\n",
              " 'Streetlight_1198.jpeg',\n",
              " 'Streetlight_1192.jpeg',\n",
              " 'Streetlight_1206.jpeg',\n",
              " 'Streetlight_1017.jpeg',\n",
              " 'Streetlight_1199.jpeg',\n",
              " 'Streetlight_1190.jpeg',\n",
              " 'Streetlight_1188.jpeg',\n",
              " 'Streetlight_1223.jpeg',\n",
              " 'Streetlight_1205.jpeg',\n",
              " 'Streetlight_1196.jpeg',\n",
              " 'Streetlight_1193.jpeg',\n",
              " 'Streetlight_1208.jpeg',\n",
              " 'Streetlight_1203.jpeg',\n",
              " 'Streetlight_1194.jpeg',\n",
              " 'Streetlight_1214.jpeg',\n",
              " 'Streetlight_1213.jpeg',\n",
              " 'Streetlight_1187.jpeg',\n",
              " 'Streetlight_1195.jpeg',\n",
              " 'Streetlight_1191.jpeg',\n",
              " 'Streetlight_1209.jpeg',\n",
              " 'Streetlight_1186.jpeg',\n",
              " 'Streetlight_1219.jpeg',\n",
              " 'Streetlight_1202.jpeg',\n",
              " 'Streetlight_1210.jpeg',\n",
              " 'Streetlight_1024.jpeg',\n",
              " 'Streetlight_1212.jpeg',\n",
              " 'Streetlight_1200.jpeg',\n",
              " 'Streetlight_1197.jpeg',\n",
              " 'Streetlight_1218.jpeg']"
            ]
          },
          "metadata": {
            "tags": []
          },
          "execution_count": 17
        }
      ]
    },
    {
      "cell_type": "code",
      "metadata": {
        "id": "LuCPiwNeyY-t",
        "colab_type": "code",
        "outputId": "bdad4683-bac0-486b-900d-450f5c1d23f9",
        "colab": {
          "base_uri": "https://localhost:8080/",
          "height": 51
        }
      },
      "source": [
        "save_path = '/content/gdrive/My Drive/WIDS_FIFI_groupproject/photos_by_category/'\n",
        "\n",
        "cats_to_dl = ['Abnd_Vehicle', 'Grafitti', 'Needles_Dumping', 'Parking',\n",
        "       'Pothole', 'Streetlight', 'Other', 'Clogged_Drain', 'Dead Animal',\n",
        "       'Vegetation', 'Sign_Signal']\n",
        "cat = cats_to_dl[5]\n",
        "print(cat)\n",
        "save_path_cat = os.path.join(save_path, cat)\n",
        "len(os.listdir(save_path_cat))"
      ],
      "execution_count": 18,
      "outputs": [
        {
          "output_type": "stream",
          "text": [
            "Streetlight\n"
          ],
          "name": "stdout"
        },
        {
          "output_type": "execute_result",
          "data": {
            "text/plain": [
              "2943"
            ]
          },
          "metadata": {
            "tags": []
          },
          "execution_count": 18
        }
      ]
    },
    {
      "cell_type": "code",
      "metadata": {
        "id": "xX7Qd8Ay2V0W",
        "colab_type": "code",
        "outputId": "c27d183f-1832-41b3-d8b9-7ca287d222cb",
        "colab": {
          "base_uri": "https://localhost:8080/",
          "height": 1000
        }
      },
      "source": [
        "#create function to get photo from url and save\n",
        "\n",
        "def fetch_and_save(image_url_tupple):\n",
        "    image_name, image_url = image_url_tupple\n",
        "    #create file name for photo\n",
        "    image_name = os.path.join(save_path_cat, image_name)  \n",
        "    #get photo from url and save\n",
        "    r = requests.get(image_url, allow_redirects=True)\n",
        "    open(image_name, 'wb').write(r.content)\n",
        "\n",
        "#do each category individually and 5,000 at a time (runtime keeps dying)\n",
        "save_path = '/content/gdrive/My Drive/WIDS_FIFI_groupproject/photos_by_category/'\n",
        "\n",
        "cats_to_dl = ['Abnd_Vehicle', 'Grafitti', 'Needles_Dumping', 'Parking',\n",
        "       'Pothole', 'Streetlight', 'Other', 'Clogged_Drain', 'Dead Animal',\n",
        "       'Vegetation', 'Sign_Signal']\n",
        "\n",
        "cat = cats_to_dl[5]\n",
        "print(cat)\n",
        "cat_data = data_photo[data_photo['FIFI_category'] == cat].reset_index() #index will get saved as part of file name for later use\n",
        "\n",
        "save_path_cat = os.path.join(save_path, cat)\n",
        "\n",
        "i = 0\n",
        "while i < (5000):\n",
        "  if i%50 == 0:\n",
        "    print(i)\n",
        "  urls = list(zip([cat+'_'+str(x)+'.jpeg' for x in cat_data.index.values[i:i+5]], cat_data['Photo'][i:i+5]))\n",
        "  ThreadPool(5).imap_unordered(fetch_and_save, urls)\n",
        "  i += 5"
      ],
      "execution_count": 8,
      "outputs": [
        {
          "output_type": "stream",
          "text": [
            "Streetlight\n",
            "0\n",
            "50\n",
            "100\n",
            "150\n",
            "200\n",
            "250\n",
            "300\n",
            "350\n",
            "400\n",
            "450\n",
            "500\n",
            "550\n",
            "600\n",
            "650\n",
            "700\n",
            "750\n",
            "800\n",
            "850\n",
            "900\n",
            "950\n",
            "1000\n",
            "1050\n",
            "1100\n",
            "1150\n",
            "1200\n",
            "1250\n",
            "1300\n",
            "1350\n",
            "1400\n",
            "1450\n",
            "1500\n",
            "1550\n",
            "1600\n",
            "1650\n",
            "1700\n",
            "1750\n",
            "1800\n",
            "1850\n",
            "1900\n",
            "1950\n",
            "2000\n",
            "2050\n",
            "2100\n",
            "2150\n",
            "2200\n",
            "2250\n",
            "2300\n",
            "2350\n",
            "2400\n",
            "2450\n",
            "2500\n",
            "2550\n",
            "2600\n",
            "2650\n",
            "2700\n",
            "2750\n",
            "2800\n",
            "2850\n",
            "2900\n",
            "2950\n",
            "3000\n",
            "3050\n",
            "3100\n",
            "3150\n",
            "3200\n",
            "3250\n",
            "3300\n",
            "3350\n",
            "3400\n",
            "3450\n",
            "3500\n",
            "3550\n",
            "3600\n",
            "3650\n",
            "3700\n",
            "3750\n",
            "3800\n",
            "3850\n",
            "3900\n",
            "3950\n",
            "4000\n",
            "4050\n",
            "4100\n",
            "4150\n",
            "4200\n",
            "4250\n",
            "4300\n",
            "4350\n",
            "4400\n",
            "4450\n",
            "4500\n",
            "4550\n",
            "4600\n",
            "4650\n",
            "4700\n",
            "4750\n",
            "4800\n",
            "4850\n",
            "4900\n",
            "4950\n"
          ],
          "name": "stdout"
        }
      ]
    },
    {
      "cell_type": "code",
      "metadata": {
        "id": "6cxma6WeyZBv",
        "colab_type": "code",
        "colab": {}
      },
      "source": [
        ""
      ],
      "execution_count": 0,
      "outputs": []
    },
    {
      "cell_type": "code",
      "metadata": {
        "id": "aeHsxY2nyZEp",
        "colab_type": "code",
        "colab": {}
      },
      "source": [
        ""
      ],
      "execution_count": 0,
      "outputs": []
    },
    {
      "cell_type": "code",
      "metadata": {
        "id": "NGGf-qpAyZHa",
        "colab_type": "code",
        "colab": {}
      },
      "source": [
        ""
      ],
      "execution_count": 0,
      "outputs": []
    },
    {
      "cell_type": "code",
      "metadata": {
        "id": "aL4wQ9ktyZKQ",
        "colab_type": "code",
        "colab": {}
      },
      "source": [
        ""
      ],
      "execution_count": 0,
      "outputs": []
    },
    {
      "cell_type": "code",
      "metadata": {
        "id": "eKEMBfpGyZNf",
        "colab_type": "code",
        "colab": {}
      },
      "source": [
        ""
      ],
      "execution_count": 0,
      "outputs": []
    }
  ]
}