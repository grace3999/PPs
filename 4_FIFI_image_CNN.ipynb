{
  "nbformat": 4,
  "nbformat_minor": 0,
  "metadata": {
    "colab": {
      "name": "5_FIFI_image_CNN.ipynb",
      "provenance": [],
      "collapsed_sections": [],
      "include_colab_link": true
    },
    "kernelspec": {
      "name": "python3",
      "display_name": "Python 3"
    },
    "accelerator": "GPU"
  },
  "cells": [
    {
      "cell_type": "markdown",
      "metadata": {
        "id": "view-in-github",
        "colab_type": "text"
      },
      "source": [
        "<a href=\"https://colab.research.google.com/github/grace3999/PPs/blob/master/4_FIFI_image_CNN.ipynb\" target=\"_parent\"><img src=\"https://colab.research.google.com/assets/colab-badge.svg\" alt=\"Open In Colab\"/></a>"
      ]
    },
    {
      "cell_type": "code",
      "metadata": {
        "id": "muw3FEkPP6Px",
        "colab_type": "code",
        "outputId": "0ad94fe9-7c8f-4d72-9636-47124d0f26e5",
        "colab": {
          "base_uri": "https://localhost:8080/",
          "height": 124
        }
      },
      "source": [
        "from google.colab import drive\n",
        "drive.mount('/content/gdrive')"
      ],
      "execution_count": 1,
      "outputs": [
        {
          "output_type": "stream",
          "text": [
            "Go to this URL in a browser: https://accounts.google.com/o/oauth2/auth?client_id=947318989803-6bn6qk8qdgf4n4g3pfee6491hc0brc4i.apps.googleusercontent.com&redirect_uri=urn%3aietf%3awg%3aoauth%3a2.0%3aoob&response_type=code&scope=email%20https%3a%2f%2fwww.googleapis.com%2fauth%2fdocs.test%20https%3a%2f%2fwww.googleapis.com%2fauth%2fdrive%20https%3a%2f%2fwww.googleapis.com%2fauth%2fdrive.photos.readonly%20https%3a%2f%2fwww.googleapis.com%2fauth%2fpeopleapi.readonly\n",
            "\n",
            "Enter your authorization code:\n",
            "··········\n",
            "Mounted at /content/gdrive\n"
          ],
          "name": "stdout"
        }
      ]
    },
    {
      "cell_type": "code",
      "metadata": {
        "id": "GH7kQz7BQBza",
        "colab_type": "code",
        "colab": {}
      },
      "source": [
        "import numpy as np\n",
        "import pandas as pd\n",
        "import os\n",
        "import requests \n",
        "from multiprocessing.pool import ThreadPool\n",
        "import time\n",
        "import random\n",
        "import tensorflow as tf\n",
        "import keras_preprocessing\n",
        "from keras_preprocessing import image\n",
        "from keras_preprocessing.image import ImageDataGenerator\n",
        "\n",
        "\n",
        "pd.set_option('display.max_rows', 500)\n",
        "pd.set_option('display.max_columns', 500)\n",
        "pd.set_option('display.width', 1000)\n",
        "pd.set_option('display.max_colwidth', -1)\n",
        "\n",
        "import warnings; warnings.simplefilter('ignore')\n",
        "np.set_printoptions(suppress=True)"
      ],
      "execution_count": 0,
      "outputs": []
    },
    {
      "cell_type": "code",
      "metadata": {
        "id": "LQELLXJfXFEz",
        "colab_type": "code",
        "outputId": "2fffbc77-3c2c-44a5-81a3-8693d86c68da",
        "colab": {
          "base_uri": "https://localhost:8080/",
          "height": 815
        }
      },
      "source": [
        "#get list of photo urls corresponding to each FIFI category\n",
        "\n",
        "#path for FIFI cleaned and preprocessed data frame\n",
        "path_FIFI = '/content/gdrive/My Drive/WIDS_FIFI_groupproject/generated_datasets/data_final.pkl'\n",
        "\n",
        "#read in pkl file containing \n",
        "data = pd.read_pickle(path_FIFI)\n",
        "data = pd.DataFrame(data = data)\n",
        "data.reset_index(inplace=True, drop=True)\n",
        "\n",
        "print('Original data shape:\\n', data.shape, '\\n')\n",
        "print('Original data columns:\\n', data.columns.values, '\\n')\n",
        "\n",
        "data = data[data['FIFI_category'] != 'Community Walk']\n",
        "\n",
        "data['FIFI_category'] = data['FIFI_category'].replace({'Needles/Dumping': 'Needles_Dumping', 'Sign/Signal': 'Sign_Signal'})\n",
        "\n",
        "#we are only interested in FIFI requests that have a photo included with the request\n",
        "print(data.shape)\n",
        "data_photo = data[~data['Photo'].isna()]\n",
        "print(data_photo.shape)\n",
        "\n",
        "print(data_photo['FIFI_category'].value_counts())\n",
        "\n",
        "#create a directory for each category\n",
        "os.mkdir('/tmp/FIFI_photos/')\n",
        "save_path = '/tmp/FIFI_photos/'\n",
        "\n",
        "cats_to_dl = ['Abnd_Vehicle', 'Grafitti', 'Needles_Dumping', 'Parking',\n",
        "       'Pothole', 'Streetlight', 'Other', 'Clogged_Drain', 'Dead Animal',\n",
        "       'Vegetation', 'Sign_Signal']\n",
        "\n",
        "#get and save photos according to FIFI_category\n",
        "for cat in cats_to_dl:\n",
        "    if os.path.exists(os.path.join(save_path, cat)) == True:\n",
        "      print(cat, \" already exists\")\n",
        "    else:\n",
        "      os.mkdir(os.path.join(save_path, cat))\n",
        "      print(cat, \" directory created\")"
      ],
      "execution_count": 3,
      "outputs": [
        {
          "output_type": "stream",
          "text": [
            "Original data shape:\n",
            " (248815, 67) \n",
            "\n",
            "Original data columns:\n",
            " ['Service_Request_Number' 'Created_Date' 'Location' 'Location_Details'\n",
            " 'Description' 'License_Number' 'State' 'Vehicle_Make' 'Vehicle_Color'\n",
            " 'Time_parked' 'Photo' 'FIFI_category' 'Location_Details.1'\n",
            " 'Property_damage?' 'Current_Issue' 'Type_of_animal'\n",
            " 'On_private_property?' 'Graffiti_location' 'Location_and_Description'\n",
            " 'Obscene/Racial/Hateful?' 'Street/Intersection' 'Where?' 'Type_of_item?'\n",
            " 'Veg_location' 'Vegetation_Safety_Issue' 'Parking_Violation_Concerning'\n",
            " 'License_Plate_Number' 'Location_details' '7_digit_number_on_pole'\n",
            " 'Issue' 'date' 'year' 'month' 'day' 'day_of_week' 'hour' 'zip'\n",
            " 'neighborhood' 'SittingInformal' 'Lying' 'DisruptiveActivity_Aggressive'\n",
            " 'DisruptiveActivity_Intoxicated' 'LivingActivities' 'Soliciting'\n",
            " 'overdose' 'pop' 'pop_dens' 'housing_units' 'med_home' 'land_area'\n",
            " 'occupied_units' 'occupied_ratio' 'med_income' 'med_age' 'male_%'\n",
            " 'white_%' 'fam_%' 'nokid_%' 'mortgage_%' 'fulltime_%' 'unemploy'\n",
            " 'drive_%' 'publictrans_%' 'other_%' 'wrk_travel' 'city council'\n",
            " 'county council'] \n",
            "\n",
            "(248661, 67)\n",
            "(183278, 67)\n",
            "Needles_Dumping    40265\n",
            "Other              34428\n",
            "Grafitti           31749\n",
            "Abnd_Vehicle       26656\n",
            "Parking            25140\n",
            "Pothole            13154\n",
            "Sign_Signal        8455 \n",
            "Streetlight        2943 \n",
            "Clogged_Drain      427  \n",
            "Vegetation         44   \n",
            "Dead Animal        17   \n",
            "Name: FIFI_category, dtype: int64\n",
            "Abnd_Vehicle  directory created\n",
            "Grafitti  directory created\n",
            "Needles_Dumping  directory created\n",
            "Parking  directory created\n",
            "Pothole  directory created\n",
            "Streetlight  directory created\n",
            "Other  directory created\n",
            "Clogged_Drain  directory created\n",
            "Dead Animal  directory created\n",
            "Vegetation  directory created\n",
            "Sign_Signal  directory created\n"
          ],
          "name": "stdout"
        }
      ]
    },
    {
      "cell_type": "code",
      "metadata": {
        "id": "Ez8rNpjfXX3E",
        "colab_type": "code",
        "outputId": "066b6f08-ed11-4d74-fc16-a807cf69ff03",
        "colab": {
          "base_uri": "https://localhost:8080/",
          "height": 1000
        }
      },
      "source": [
        "#create function to get photo from url and save\n",
        "\n",
        "def fetch_and_save(image_url_tupple):\n",
        "    image_name, image_url = image_url_tupple\n",
        "    #create file name for photo\n",
        "    image_name = os.path.join(save_path_cat, image_name)  \n",
        "    #get photo from url and save\n",
        "    r = requests.get(image_url, allow_redirects=True)\n",
        "    open(image_name, 'wb').write(r.content)\n",
        "\n",
        "#do each category individually and 5,000 at a time (runtime keeps dying)\n",
        "save_path = '/tmp/FIFI_photos/'\n",
        "\n",
        "#only use categories that have at least 2000 images\n",
        "cats_to_dl = ['Abnd_Vehicle', 'Grafitti', 'Needles_Dumping', 'Parking',\n",
        "       'Pothole', 'Streetlight', 'Sign_Signal', 'Other']\n",
        "\n",
        "for cat in cats_to_dl:\n",
        "  print(cat)\n",
        "  cat_data = data_photo[data_photo['FIFI_category'] == cat].reset_index() #index will get saved as part of file name for later use\n",
        "\n",
        "  save_path_cat = os.path.join(save_path, cat)\n",
        "\n",
        "  i = 0\n",
        "  while i < (1000):\n",
        "    if i%100 == 0:\n",
        "      print(i)\n",
        "    urls = list(zip([cat+'_'+str(x)+'.jpeg' for x in cat_data['Service_Request_Number'].iloc[i:i+5]], cat_data['Photo'][i:i+5]))\n",
        "    ThreadPool(5).imap_unordered(fetch_and_save, urls)\n",
        "    i += 5"
      ],
      "execution_count": 4,
      "outputs": [
        {
          "output_type": "stream",
          "text": [
            "Abnd_Vehicle\n",
            "0\n",
            "100\n",
            "200\n",
            "300\n",
            "400\n",
            "500\n",
            "600\n",
            "700\n",
            "800\n",
            "900\n",
            "Grafitti\n",
            "0\n",
            "100\n",
            "200\n",
            "300\n",
            "400\n",
            "500\n",
            "600\n",
            "700\n",
            "800\n",
            "900\n",
            "Needles_Dumping\n",
            "0\n",
            "100\n",
            "200\n",
            "300\n",
            "400\n",
            "500\n",
            "600\n",
            "700\n",
            "800\n",
            "900\n",
            "Parking\n",
            "0\n",
            "100\n",
            "200\n",
            "300\n",
            "400\n",
            "500\n",
            "600\n",
            "700\n",
            "800\n",
            "900\n",
            "Pothole\n",
            "0\n",
            "100\n",
            "200\n",
            "300\n",
            "400\n",
            "500\n",
            "600\n",
            "700\n",
            "800\n",
            "900\n",
            "Streetlight\n",
            "0\n",
            "100\n",
            "200\n",
            "300\n",
            "400\n",
            "500\n",
            "600\n",
            "700\n",
            "800\n",
            "900\n",
            "Sign_Signal\n",
            "0\n",
            "100\n",
            "200\n",
            "300\n",
            "400\n",
            "500\n",
            "600\n",
            "700\n",
            "800\n",
            "900\n",
            "Other\n",
            "0\n",
            "100\n",
            "200\n",
            "300\n",
            "400\n",
            "500\n",
            "600\n",
            "700\n",
            "800\n",
            "900\n"
          ],
          "name": "stdout"
        }
      ]
    },
    {
      "cell_type": "code",
      "metadata": {
        "id": "R-JwdeMcJJS_",
        "colab_type": "code",
        "colab": {}
      },
      "source": [
        "#create directories for training and testing \n",
        "project_dir = '/tmp/'\n",
        "\n",
        "try:\n",
        "  os.mkdir(os.path.join(project_dir, 'cnn_cat_other'))\n",
        "except OSError:\n",
        "  pass\n",
        "try:\n",
        "  os.mkdir(os.path.join(project_dir, 'cnn_cat_other/training'))\n",
        "except OSError:\n",
        "  pass\n",
        "try:\n",
        "  os.mkdir(os.path.join(project_dir, 'cnn_cat_other/testing'))\n",
        "except OSError:\n",
        "  pass\n"
      ],
      "execution_count": 0,
      "outputs": []
    },
    {
      "cell_type": "code",
      "metadata": {
        "id": "HL2c2MQ8MUlv",
        "colab_type": "code",
        "colab": {}
      },
      "source": [
        "#create directories for train/test for each FIFI category \n",
        "photo_categories = ['Abnd_Vehicle', 'Grafitti', 'Needles_Dumping', 'Parking',\n",
        "       'Pothole', 'Streetlight', 'Sign_Signal']\n",
        "\n",
        "train_dir = '/tmp/cnn_cat_other/training/'\n",
        "test_dir = '/tmp/cnn_cat_other/testing/'\n",
        "\n",
        "for cat in photo_categories:\n",
        "  try:\n",
        "    os.mkdir(os.path.join(train_dir, cat))\n",
        "  except OSError:\n",
        "   print('cannot make directory for train: ', cat)\n",
        "  try:\n",
        "    os.mkdir(os.path.join(test_dir, cat))\n",
        "  except OSError:\n",
        "   print('cannot make directory for test: ', cat)"
      ],
      "execution_count": 0,
      "outputs": []
    },
    {
      "cell_type": "code",
      "metadata": {
        "id": "4YdQqpaAJGiO",
        "colab_type": "code",
        "colab": {}
      },
      "source": [
        "#function to split data into training and testing based on a specified split size\n",
        "def split_data(SOURCE, TRAINING, TESTING, SPLIT_SIZE):\n",
        "    files = []\n",
        "    for filename in os.listdir(SOURCE):\n",
        "        file = os.path.join(SOURCE, filename)\n",
        "        if os.path.getsize(file) > 0:\n",
        "            files.append(filename)\n",
        "        else:\n",
        "            print(filename + \" is zero length, so ignoring.\")\n",
        "\n",
        "    training_length = int(len(files) * SPLIT_SIZE)\n",
        "    testing_length = int(len(files) - training_length)\n",
        "    shuffled_set = random.sample(files, len(files))\n",
        "    training_set = shuffled_set[0:training_length]\n",
        "    testing_set = shuffled_set[-testing_length:]\n",
        "\n",
        "    for filename in training_set:\n",
        "        this_file = os.path.join(SOURCE, filename)\n",
        "        destination = os.path.join(TRAINING, filename)\n",
        "        copyfile(this_file, destination)\n",
        "\n",
        "    for filename in testing_set:\n",
        "        this_file = os.path.join(SOURCE, filename)\n",
        "        destination = os.path.join(TESTING, filename)\n",
        "        copyfile(this_file, destination)"
      ],
      "execution_count": 0,
      "outputs": []
    },
    {
      "cell_type": "code",
      "metadata": {
        "id": "Ll7zsSIfN1tF",
        "colab_type": "code",
        "outputId": "fda31166-df33-46b0-b736-7f67c0aeee5c",
        "colab": {
          "base_uri": "https://localhost:8080/",
          "height": 260
        }
      },
      "source": [
        "photos_dir = '/tmp/FIFI_photos/'\n",
        "train_dir = '/tmp/cnn_cat_other/training/'\n",
        "test_dir = '/tmp/cnn_cat_other/testing/'\n",
        "\n",
        "for cat in photo_categories:\n",
        "  print(cat)\n",
        "  source_dir = os.path.join(photos_dir, cat)\n",
        "  train_dir_cat = os.path.join(train_dir, cat)\n",
        "  test_dir_cat = os.path.join(test_dir, cat)\n",
        "\n",
        "  split_size = .9\n",
        "  start_time = time.time()\n",
        "  split_data(source_dir, train_dir_cat, test_dir_cat, split_size)\n",
        "  print(\"--- %s seconds ---\" % (time.time() - start_time))\n"
      ],
      "execution_count": 10,
      "outputs": [
        {
          "output_type": "stream",
          "text": [
            "Abnd_Vehicle\n",
            "--- 0.35900354385375977 seconds ---\n",
            "Grafitti\n",
            "--- 0.24996733665466309 seconds ---\n",
            "Needles_Dumping\n",
            "--- 0.49175024032592773 seconds ---\n",
            "Parking\n",
            "--- 0.30872178077697754 seconds ---\n",
            "Pothole\n",
            "--- 0.4312722682952881 seconds ---\n",
            "Streetlight\n",
            "--- 0.7645056247711182 seconds ---\n",
            "Sign_Signal\n",
            "--- 1.2028248310089111 seconds ---\n"
          ],
          "name": "stdout"
        }
      ]
    },
    {
      "cell_type": "code",
      "metadata": {
        "id": "aeHsxY2nyZEp",
        "colab_type": "code",
        "colab": {
          "base_uri": "https://localhost:8080/",
          "height": 1000
        },
        "outputId": "eaf4d484-c045-44c7-a5a6-b0231da5882c"
      },
      "source": [
        "#train CNN using images from each category besides 'other'\n",
        "\n",
        "TRAINING_DIR = '/tmp/cnn_cat_other/training/'\n",
        "training_datagen = ImageDataGenerator(rescale = 1./255)\n",
        "\n",
        "VALIDATION_DIR = '/tmp/cnn_cat_other/testing/'\n",
        "validation_datagen = ImageDataGenerator(rescale = 1./255)\n",
        "\n",
        "train_generator = training_datagen.flow_from_directory(\n",
        "\tTRAINING_DIR,\n",
        "\ttarget_size=(150,150),\n",
        "\tclass_mode='categorical'\n",
        ")\n",
        "\n",
        "validation_generator = validation_datagen.flow_from_directory(\n",
        "\tVALIDATION_DIR,\n",
        "\ttarget_size=(150,150),\n",
        "\tclass_mode='categorical'\n",
        ")\n",
        "\n",
        "model = tf.keras.models.Sequential([\n",
        "    # Note the input shape is the desired size of the image 150x150 with 3 bytes color\n",
        "    # This is the first convolution\n",
        "    tf.keras.layers.Conv2D(64, (3,3), activation='relu', input_shape=(150, 150, 3)),\n",
        "    tf.keras.layers.MaxPooling2D(2, 2),\n",
        "    # The second convolution\n",
        "    tf.keras.layers.Conv2D(64, (3,3), activation='relu'),\n",
        "    tf.keras.layers.MaxPooling2D(2,2),\n",
        "    # The third convolution\n",
        "    tf.keras.layers.Conv2D(128, (3,3), activation='relu'),\n",
        "    tf.keras.layers.MaxPooling2D(2,2),\n",
        "    # The fourth convolution\n",
        "    tf.keras.layers.Conv2D(128, (3,3), activation='relu'),\n",
        "    tf.keras.layers.MaxPooling2D(2,2),\n",
        "    # Flatten the results to feed into a DNN\n",
        "    tf.keras.layers.Flatten(),\n",
        "    tf.keras.layers.Dropout(0.5),\n",
        "    # 512 neuron hidden layer\n",
        "    tf.keras.layers.Dense(512, activation='relu'),\n",
        "    tf.keras.layers.Dense(7, activation='softmax')\n",
        "])\n",
        "\n",
        "\n",
        "model.summary()\n",
        "\n",
        "model.compile(loss = 'categorical_crossentropy', optimizer='rmsprop', metrics=['accuracy'])\n",
        "\n",
        "history = model.fit_generator(train_generator, epochs=10, validation_data = validation_generator, verbose = 1)\n",
        "\n",
        "#model.save(\"rps.h5\")\n"
      ],
      "execution_count": 12,
      "outputs": [
        {
          "output_type": "stream",
          "text": [
            "Found 6380 images belonging to 7 classes.\n",
            "Found 789 images belonging to 7 classes.\n",
            "WARNING:tensorflow:From /usr/local/lib/python3.6/dist-packages/tensorflow_core/python/ops/resource_variable_ops.py:1630: calling BaseResourceVariable.__init__ (from tensorflow.python.ops.resource_variable_ops) with constraint is deprecated and will be removed in a future version.\n",
            "Instructions for updating:\n",
            "If using Keras pass *_constraint arguments to layers.\n",
            "Model: \"sequential\"\n",
            "_________________________________________________________________\n",
            "Layer (type)                 Output Shape              Param #   \n",
            "=================================================================\n",
            "conv2d (Conv2D)              (None, 148, 148, 64)      1792      \n",
            "_________________________________________________________________\n",
            "max_pooling2d (MaxPooling2D) (None, 74, 74, 64)        0         \n",
            "_________________________________________________________________\n",
            "conv2d_1 (Conv2D)            (None, 72, 72, 64)        36928     \n",
            "_________________________________________________________________\n",
            "max_pooling2d_1 (MaxPooling2 (None, 36, 36, 64)        0         \n",
            "_________________________________________________________________\n",
            "conv2d_2 (Conv2D)            (None, 34, 34, 128)       73856     \n",
            "_________________________________________________________________\n",
            "max_pooling2d_2 (MaxPooling2 (None, 17, 17, 128)       0         \n",
            "_________________________________________________________________\n",
            "conv2d_3 (Conv2D)            (None, 15, 15, 128)       147584    \n",
            "_________________________________________________________________\n",
            "max_pooling2d_3 (MaxPooling2 (None, 7, 7, 128)         0         \n",
            "_________________________________________________________________\n",
            "flatten (Flatten)            (None, 6272)              0         \n",
            "_________________________________________________________________\n",
            "dropout (Dropout)            (None, 6272)              0         \n",
            "_________________________________________________________________\n",
            "dense (Dense)                (None, 512)               3211776   \n",
            "_________________________________________________________________\n",
            "dense_1 (Dense)              (None, 7)                 3591      \n",
            "=================================================================\n",
            "Total params: 3,475,527\n",
            "Trainable params: 3,475,527\n",
            "Non-trainable params: 0\n",
            "_________________________________________________________________\n",
            "Epoch 1/10\n",
            "199/200 [============================>.] - ETA: 0s - loss: 1.8379 - acc: 0.2883Epoch 1/10\n",
            "200/200 [==============================] - 96s 480ms/step - loss: 1.8367 - acc: 0.2886 - val_loss: 1.5185 - val_acc: 0.4018\n",
            "Epoch 2/10\n",
            "199/200 [============================>.] - ETA: 0s - loss: 1.5175 - acc: 0.4234Epoch 1/10\n",
            "200/200 [==============================] - 83s 414ms/step - loss: 1.5163 - acc: 0.4234 - val_loss: 1.3619 - val_acc: 0.4702\n",
            "Epoch 3/10\n",
            "199/200 [============================>.] - ETA: 0s - loss: 1.3699 - acc: 0.4833Epoch 1/10\n",
            "200/200 [==============================] - 83s 414ms/step - loss: 1.3707 - acc: 0.4832 - val_loss: 1.2930 - val_acc: 0.4918\n",
            "Epoch 4/10\n",
            "199/200 [============================>.] - ETA: 0s - loss: 1.2745 - acc: 0.5282Epoch 1/10\n",
            "200/200 [==============================] - 83s 413ms/step - loss: 1.2770 - acc: 0.5273 - val_loss: 1.3040 - val_acc: 0.5006\n",
            "Epoch 5/10\n",
            "199/200 [============================>.] - ETA: 0s - loss: 1.1589 - acc: 0.5695Epoch 1/10\n",
            "200/200 [==============================] - 82s 412ms/step - loss: 1.1595 - acc: 0.5694 - val_loss: 1.1524 - val_acc: 0.5425\n",
            "Epoch 6/10\n",
            "199/200 [============================>.] - ETA: 0s - loss: 1.0768 - acc: 0.6008Epoch 1/10\n",
            "200/200 [==============================] - 82s 408ms/step - loss: 1.0765 - acc: 0.6009 - val_loss: 1.1841 - val_acc: 0.5678\n",
            "Epoch 7/10\n",
            "199/200 [============================>.] - ETA: 0s - loss: 0.9822 - acc: 0.6377Epoch 1/10\n",
            "200/200 [==============================] - 83s 413ms/step - loss: 0.9825 - acc: 0.6376 - val_loss: 1.2215 - val_acc: 0.5741\n",
            "Epoch 8/10\n",
            "199/200 [============================>.] - ETA: 0s - loss: 0.8791 - acc: 0.6741Epoch 1/10\n",
            "200/200 [==============================] - 80s 401ms/step - loss: 0.8780 - acc: 0.6743 - val_loss: 1.0889 - val_acc: 0.6236\n",
            "Epoch 9/10\n",
            "199/200 [============================>.] - ETA: 0s - loss: 0.8105 - acc: 0.7152Epoch 1/10\n",
            "200/200 [==============================] - 81s 407ms/step - loss: 0.8132 - acc: 0.7146 - val_loss: 1.0959 - val_acc: 0.6236\n",
            "Epoch 10/10\n",
            "199/200 [============================>.] - ETA: 0s - loss: 0.7153 - acc: 0.7439Epoch 1/10\n",
            "200/200 [==============================] - 82s 410ms/step - loss: 0.7169 - acc: 0.7431 - val_loss: 1.2046 - val_acc: 0.6172\n"
          ],
          "name": "stdout"
        }
      ]
    },
    {
      "cell_type": "code",
      "metadata": {
        "id": "NGGf-qpAyZHa",
        "colab_type": "code",
        "colab": {
          "base_uri": "https://localhost:8080/",
          "height": 299
        },
        "outputId": "bb719588-0fbf-4348-90b5-bf81c3d7a8db"
      },
      "source": [
        "import matplotlib.pyplot as plt\n",
        "acc = history.history['acc']\n",
        "val_acc = history.history['val_acc']\n",
        "loss = history.history['loss']\n",
        "val_loss = history.history['val_loss']\n",
        "\n",
        "epochs = range(len(acc))\n",
        "\n",
        "plt.plot(epochs, acc, 'r', label='Training accuracy')\n",
        "plt.plot(epochs, val_acc, 'b', label='Validation accuracy')\n",
        "plt.title('Training and validation accuracy')\n",
        "plt.legend(loc=0)\n",
        "plt.figure()\n",
        "\n",
        "\n",
        "plt.show()"
      ],
      "execution_count": 13,
      "outputs": [
        {
          "output_type": "display_data",
          "data": {
            "image/png": "[encoded data removed]",
            "text/plain": [
              "<Figure size 432x288 with 1 Axes>"
            ]
          },
          "metadata": {
            "tags": []
          }
        },
        {
          "output_type": "display_data",
          "data": {
            "text/plain": [
              "<Figure size 432x288 with 0 Axes>"
            ]
          },
          "metadata": {
            "tags": []
          }
        }
      ]
    },
    {
      "cell_type": "code",
      "metadata": {
        "id": "aL4wQ9ktyZKQ",
        "colab_type": "code",
        "colab": {}
      },
      "source": [
        ""
      ],
      "execution_count": 0,
      "outputs": []
    },
    {
      "cell_type": "code",
      "metadata": {
        "id": "eKEMBfpGyZNf",
        "colab_type": "code",
        "colab": {}
      },
      "source": [
        ""
      ],
      "execution_count": 0,
      "outputs": []
    }
  ]
}