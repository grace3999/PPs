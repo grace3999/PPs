{
  "nbformat": 4,
  "nbformat_minor": 0,
  "metadata": {
    "colab": {
      "name": "4_FIFI_image_CNN_colab.ipynb",
      "provenance": [],
      "collapsed_sections": [],
      "include_colab_link": true
    },
    "kernelspec": {
      "name": "python3",
      "display_name": "Python 3"
    },
    "accelerator": "GPU"
  },
  "cells": [
    {
      "cell_type": "markdown",
      "metadata": {
        "id": "view-in-github",
        "colab_type": "text"
      },
      "source": [
        "<a href=\"https://colab.research.google.com/github/grace3999/PPs/blob/master/4_FIFI_image_CNN_colab.ipynb\" target=\"_parent\"><img src=\"https://colab.research.google.com/assets/colab-badge.svg\" alt=\"Open In Colab\"/></a>"
      ]
    },
    {
      "cell_type": "code",
      "metadata": {
        "id": "muw3FEkPP6Px",
        "colab_type": "code",
        "outputId": "92fab451-e663-428e-d49b-a30328bbc595",
        "colab": {
          "base_uri": "https://localhost:8080/",
          "height": 122
        }
      },
      "source": [
        "from google.colab import drive\n",
        "drive.mount('/content/gdrive')"
      ],
      "execution_count": 0,
      "outputs": [
        {
          "output_type": "stream",
          "text": [
            "Go to this URL in a browser: https://accounts.google.com/o/oauth2/auth?client_id=947318989803-6bn6qk8qdgf4n4g3pfee6491hc0brc4i.apps.googleusercontent.com&redirect_uri=urn%3aietf%3awg%3aoauth%3a2.0%3aoob&response_type=code&scope=email%20https%3a%2f%2fwww.googleapis.com%2fauth%2fdocs.test%20https%3a%2f%2fwww.googleapis.com%2fauth%2fdrive%20https%3a%2f%2fwww.googleapis.com%2fauth%2fdrive.photos.readonly%20https%3a%2f%2fwww.googleapis.com%2fauth%2fpeopleapi.readonly\n",
            "\n",
            "Enter your authorization code:\n",
            "··········\n",
            "Mounted at /content/gdrive\n"
          ],
          "name": "stdout"
        }
      ]
    },
    {
      "cell_type": "code",
      "metadata": {
        "id": "GH7kQz7BQBza",
        "colab_type": "code",
        "outputId": "81c90d7e-c6c3-4f92-e774-4cc3c414b627",
        "colab": {
          "base_uri": "https://localhost:8080/",
          "height": 63
        }
      },
      "source": [
        "import numpy as np\n",
        "import pandas as pd\n",
        "import os\n",
        "import requests \n",
        "from multiprocessing.pool import ThreadPool\n",
        "import time\n",
        "import random\n",
        "from shutil import copyfile\n",
        "import matplotlib.pyplot as plt\n",
        "import tensorflow as tf\n",
        "import keras_preprocessing\n",
        "from keras_preprocessing import image\n",
        "from keras_preprocessing.image import ImageDataGenerator\n",
        "\n",
        "\n",
        "pd.set_option('display.max_rows', 500)\n",
        "pd.set_option('display.max_columns', 500)\n",
        "pd.set_option('display.width', 1000)\n",
        "pd.set_option('display.max_colwidth', -1)\n",
        "\n",
        "import warnings; warnings.simplefilter('ignore')\n",
        "np.set_printoptions(suppress=True)"
      ],
      "execution_count": 0,
      "outputs": [
        {
          "output_type": "display_data",
          "data": {
            "text/html": [
              "<p style=\"color: red;\">\n",
              "The default version of TensorFlow in Colab will soon switch to TensorFlow 2.x.<br>\n",
              "We recommend you <a href=\"https://www.tensorflow.org/guide/migrate\" target=\"_blank\">upgrade</a> now \n",
              "or ensure your notebook will continue to use TensorFlow 1.x via the <code>%tensorflow_version 1.x</code> magic:\n",
              "<a href=\"https://colab.research.google.com/notebooks/tensorflow_version.ipynb\" target=\"_blank\">more info</a>.</p>\n"
            ],
            "text/plain": [
              "<IPython.core.display.HTML object>"
            ]
          },
          "metadata": {
            "tags": []
          }
        }
      ]
    },
    {
      "cell_type": "code",
      "metadata": {
        "id": "4_TblUuF1arn",
        "colab_type": "code",
        "outputId": "c99c63e7-920f-4e8b-84c4-77ca4016ef57",
        "colab": {
          "base_uri": "https://localhost:8080/",
          "height": 289
        }
      },
      "source": [
        "#path for FIFI cleaned and preprocessed data frame\n",
        "path_FIFI = '/content/gdrive/My Drive/WIDS_FIFI_groupproject/generated_datasets/data_final.pkl'\n",
        "\n",
        "#read in pkl file containing \n",
        "data = pd.read_pickle(path_FIFI)\n",
        "data = pd.DataFrame(data = data)\n",
        "data.reset_index(inplace=True, drop=True)\n",
        "\n",
        "print('Original data shape:\\n', data.shape, '\\n')\n",
        "\n",
        "#clean data, combine 'sign/signal' and 'streetlight' \n",
        "data = data[data['FIFI_category'] != 'Community Walk']\n",
        "data['FIFI_category'] = data['FIFI_category'].replace({'Needles/Dumping': 'Needles_Dumping', 'Sign/Signal': 'Sign_Signal_Light', 'Streetlight': 'Sign_Signal_Light'})\n",
        "\n",
        "#we are only interested in FIFI requests that have a photo included with the request\n",
        "print(data.shape)\n",
        "data_photo = data[~data['Photo'].isna()]\n",
        "print(data_photo.shape)\n",
        "\n",
        "print(data_photo['FIFI_category'].value_counts())"
      ],
      "execution_count": 0,
      "outputs": [
        {
          "output_type": "stream",
          "text": [
            "Original data shape:\n",
            " (248815, 67) \n",
            "\n",
            "(248661, 67)\n",
            "(183278, 67)\n",
            "Needles_Dumping      40265\n",
            "Other                34428\n",
            "Grafitti             31749\n",
            "Abnd_Vehicle         26656\n",
            "Parking              25140\n",
            "Pothole              13154\n",
            "Sign_Signal_Light    11398\n",
            "Clogged_Drain        427  \n",
            "Vegetation           44   \n",
            "Dead Animal          17   \n",
            "Name: FIFI_category, dtype: int64\n"
          ],
          "name": "stdout"
        }
      ]
    },
    {
      "cell_type": "code",
      "metadata": {
        "id": "LQELLXJfXFEz",
        "colab_type": "code",
        "outputId": "bb6e67b2-6370-413f-fcc1-91153ce914f9",
        "colab": {
          "base_uri": "https://localhost:8080/",
          "height": 119
        }
      },
      "source": [
        "#create a directory for each category\n",
        "try:\n",
        "    os.mkdir('/tmp/FIFI_photos/')\n",
        "except:\n",
        "    pass\n",
        "\n",
        "save_path = '/tmp/FIFI_photos/'\n",
        "\n",
        "train_cats = ['Abnd_Vehicle', 'Grafitti', 'Needles_Dumping', 'Parking',\n",
        "       'Pothole', 'Sign_Signal_Light']\n",
        "\n",
        "for cat in train_cats:\n",
        "    if os.path.exists(os.path.join(save_path, cat)) == True:\n",
        "      print(cat, \" already exists\")\n",
        "    else:\n",
        "      os.mkdir(os.path.join(save_path, cat))\n",
        "      print(cat, \" directory created\")"
      ],
      "execution_count": 0,
      "outputs": [
        {
          "output_type": "stream",
          "text": [
            "Abnd_Vehicle  directory created\n",
            "Grafitti  directory created\n",
            "Needles_Dumping  directory created\n",
            "Parking  directory created\n",
            "Pothole  directory created\n",
            "Sign_Signal_Light  directory created\n"
          ],
          "name": "stdout"
        }
      ]
    },
    {
      "cell_type": "code",
      "metadata": {
        "id": "Ez8rNpjfXX3E",
        "colab_type": "code",
        "outputId": "051aa975-9d9a-48d6-9ba7-59de663149db",
        "colab": {
          "base_uri": "https://localhost:8080/",
          "height": 425
        }
      },
      "source": [
        "#create function to get photo from url and save\n",
        "def fetch_and_save(image_url_tupple):\n",
        "    image_name, image_url = image_url_tupple\n",
        "    #create file name for photo\n",
        "    image_name = os.path.join(save_path_cat, image_name)  \n",
        "    #get photo from url and save\n",
        "    r = requests.get(image_url, allow_redirects=True)\n",
        "    open(image_name, 'wb').write(r.content)\n",
        "\n",
        "#use '/tmp/' for faster performance\n",
        "save_path = '/tmp/FIFI_photos/'\n",
        "\n",
        "#do each category individually, limit to 10,000 (lowest cat count)\n",
        "for cat in train_cats:\n",
        "  print(cat)\n",
        "  cat_data = data_photo[data_photo['FIFI_category'] == cat].reset_index() \n",
        "  save_path_cat = os.path.join(save_path, cat)\n",
        "\n",
        "  i = 0\n",
        "  while i < (1500):\n",
        "    if i%500 == 0:\n",
        "      print(i)\n",
        "    #run on multiple threads for faster performance, save each photo with 'service_request_number' for later indexing\n",
        "    urls = list(zip([cat+'_'+str(x)+'.jpeg' for x in cat_data['Service_Request_Number'].iloc[i:i+5]], cat_data['Photo'][i:i+5]))\n",
        "    ThreadPool(5).imap_unordered(fetch_and_save, urls)\n",
        "    i += 5"
      ],
      "execution_count": 0,
      "outputs": [
        {
          "output_type": "stream",
          "text": [
            "Abnd_Vehicle\n",
            "0\n",
            "500\n",
            "1000\n",
            "Grafitti\n",
            "0\n",
            "500\n",
            "1000\n",
            "Needles_Dumping\n",
            "0\n",
            "500\n",
            "1000\n",
            "Parking\n",
            "0\n",
            "500\n",
            "1000\n",
            "Pothole\n",
            "0\n",
            "500\n",
            "1000\n",
            "Sign_Signal_Light\n",
            "0\n",
            "500\n",
            "1000\n"
          ],
          "name": "stdout"
        }
      ]
    },
    {
      "cell_type": "code",
      "metadata": {
        "id": "R-JwdeMcJJS_",
        "colab_type": "code",
        "colab": {}
      },
      "source": [
        "#create directories for training and testing \n",
        "project_dir = '/tmp/'\n",
        "\n",
        "try:\n",
        "  os.mkdir(os.path.join(project_dir, 'cnn_cat_other'))\n",
        "except OSError:\n",
        "  pass\n",
        "try:\n",
        "  os.mkdir(os.path.join(project_dir, 'cnn_cat_other/training'))\n",
        "except OSError:\n",
        "  pass\n",
        "try:\n",
        "  os.mkdir(os.path.join(project_dir, 'cnn_cat_other/testing'))\n",
        "except OSError:\n",
        "  pass\n"
      ],
      "execution_count": 0,
      "outputs": []
    },
    {
      "cell_type": "code",
      "metadata": {
        "id": "HL2c2MQ8MUlv",
        "colab_type": "code",
        "colab": {}
      },
      "source": [
        "#create directories for train/test for each FIFI category \n",
        "photo_categories = ['Abnd_Vehicle', 'Grafitti', 'Needles_Dumping', 'Parking',\n",
        "       'Pothole', 'Sign_Signal_Light']\n",
        "\n",
        "train_dir = '/tmp/cnn_cat_other/training/'\n",
        "test_dir = '/tmp/cnn_cat_other/testing/'\n",
        "\n",
        "for cat in photo_categories:\n",
        "  try:\n",
        "    os.mkdir(os.path.join(train_dir, cat))\n",
        "  except OSError:\n",
        "   print('cannot make directory for train: ', cat)\n",
        "  try:\n",
        "    os.mkdir(os.path.join(test_dir, cat))\n",
        "  except OSError:\n",
        "   print('cannot make directory for test: ', cat)"
      ],
      "execution_count": 0,
      "outputs": []
    },
    {
      "cell_type": "code",
      "metadata": {
        "id": "4YdQqpaAJGiO",
        "colab_type": "code",
        "colab": {}
      },
      "source": [
        "#function to split data into training and testing based on a specified split size\n",
        "def split_data(SOURCE, TRAINING, TESTING, SPLIT_SIZE):\n",
        "    files = []\n",
        "    for filename in os.listdir(SOURCE):\n",
        "        file = os.path.join(SOURCE, filename)\n",
        "        if os.path.getsize(file) > 0:\n",
        "            files.append(filename)\n",
        "        else:\n",
        "            print(filename + \" is zero length, so ignoring.\")\n",
        "\n",
        "    training_length = int(len(files) * SPLIT_SIZE)\n",
        "    testing_length = int(len(files) - training_length)\n",
        "    shuffled_set = random.sample(files, len(files))\n",
        "    training_set = shuffled_set[0:training_length]\n",
        "    testing_set = shuffled_set[-testing_length:]\n",
        "\n",
        "    for filename in training_set:\n",
        "        this_file = os.path.join(SOURCE, filename)\n",
        "        destination = os.path.join(TRAINING, filename)\n",
        "        copyfile(this_file, destination)\n",
        "\n",
        "    for filename in testing_set:\n",
        "        this_file = os.path.join(SOURCE, filename)\n",
        "        destination = os.path.join(TESTING, filename)\n",
        "        copyfile(this_file, destination)"
      ],
      "execution_count": 0,
      "outputs": []
    },
    {
      "cell_type": "code",
      "metadata": {
        "id": "Ll7zsSIfN1tF",
        "colab_type": "code",
        "outputId": "a966c410-c09e-48e2-f4a2-424f219d3f55",
        "colab": {
          "base_uri": "https://localhost:8080/",
          "height": 221
        }
      },
      "source": [
        "photos_dir = '/tmp/FIFI_photos/'\n",
        "train_dir = '/tmp/cnn_cat_other/training/'\n",
        "test_dir = '/tmp/cnn_cat_other/testing/'\n",
        "\n",
        "for cat in photo_categories:\n",
        "  print(cat)\n",
        "  source_dir = os.path.join(photos_dir, cat)\n",
        "  train_dir_cat = os.path.join(train_dir, cat)\n",
        "  test_dir_cat = os.path.join(test_dir, cat)\n",
        "\n",
        "  split_size = .9\n",
        "  start_time = time.time()\n",
        "  split_data(source_dir, train_dir_cat, test_dir_cat, split_size)\n",
        "  print(\"--- %s seconds ---\" % (time.time() - start_time))\n"
      ],
      "execution_count": 0,
      "outputs": [
        {
          "output_type": "stream",
          "text": [
            "Abnd_Vehicle\n",
            "--- 0.5065953731536865 seconds ---\n",
            "Grafitti\n",
            "--- 0.4317653179168701 seconds ---\n",
            "Needles_Dumping\n",
            "--- 1.2458741664886475 seconds ---\n",
            "Parking\n",
            "--- 0.6138372421264648 seconds ---\n",
            "Pothole\n",
            "--- 0.5498065948486328 seconds ---\n",
            "Sign_Signal_Light\n",
            "--- 1.5820708274841309 seconds ---\n"
          ],
          "name": "stdout"
        }
      ]
    },
    {
      "cell_type": "code",
      "metadata": {
        "id": "aeHsxY2nyZEp",
        "colab_type": "code",
        "outputId": "096b3564-e56a-441d-a9ea-b7cd24d85a04",
        "colab": {
          "base_uri": "https://localhost:8080/",
          "height": 1000
        }
      },
      "source": [
        "#train CNN using images from each category besides 'other'\n",
        "\n",
        "TRAINING_DIR = '/tmp/cnn_cat_other/training/'\n",
        "training_datagen = ImageDataGenerator(\n",
        "      rescale = 1./255,\n",
        "\t  rotation_range=40,\n",
        "      width_shift_range=0.2,\n",
        "      height_shift_range=0.2,\n",
        "      shear_range=0.2,\n",
        "      zoom_range=0.2,\n",
        "      horizontal_flip=True,\n",
        "      fill_mode='nearest')\n",
        "\n",
        "VALIDATION_DIR = '/tmp/cnn_cat_other/testing/'\n",
        "validation_datagen = ImageDataGenerator(rescale = 1./255)\n",
        "\n",
        "train_generator = training_datagen.flow_from_directory(\n",
        "\tTRAINING_DIR,\n",
        "\ttarget_size=(150,150),\n",
        "\tclass_mode='categorical'\n",
        ")\n",
        "\n",
        "validation_generator = validation_datagen.flow_from_directory(\n",
        "\tVALIDATION_DIR,\n",
        "\ttarget_size=(150,150),\n",
        "\tclass_mode='categorical'\n",
        ")\n",
        "\n",
        "model = tf.keras.models.Sequential([\n",
        "    # Note the input shape is the desired size of the image 150x150 with 3 bytes color\n",
        "    # This is the first convolution\n",
        "    tf.keras.layers.Conv2D(64, (3,3), activation='relu', input_shape=(150, 150, 3)),\n",
        "    tf.keras.layers.MaxPooling2D(2, 2),\n",
        "    # The second convolution\n",
        "    tf.keras.layers.Conv2D(64, (3,3), activation='relu'),\n",
        "    tf.keras.layers.MaxPooling2D(2,2),\n",
        "    # The third convolution\n",
        "    tf.keras.layers.Conv2D(128, (3,3), activation='relu'),\n",
        "    tf.keras.layers.MaxPooling2D(2,2),\n",
        "    # The fourth convolution\n",
        "    tf.keras.layers.Conv2D(128, (3,3), activation='relu'),\n",
        "    tf.keras.layers.MaxPooling2D(2,2),\n",
        "    # Flatten the results to feed into a DNN\n",
        "    tf.keras.layers.Flatten(),\n",
        "    tf.keras.layers.Dropout(0.5),\n",
        "    # 512 neuron hidden layer\n",
        "    tf.keras.layers.Dense(512, activation='relu'),\n",
        "    tf.keras.layers.Dense(6, activation='softmax')\n",
        "])\n",
        "\n",
        "\n",
        "model.summary()\n",
        "\n",
        "model.compile(loss = 'categorical_crossentropy', optimizer='rmsprop', metrics=['accuracy'])\n",
        "\n",
        "history = model.fit_generator(train_generator, epochs=15, validation_data = validation_generator, verbose = 1)\n",
        "\n",
        "#model.save(\"rps.h5\")\n"
      ],
      "execution_count": 0,
      "outputs": [
        {
          "output_type": "stream",
          "text": [
            "Found 7795 images belonging to 6 classes.\n",
            "Found 867 images belonging to 6 classes.\n",
            "Model: \"sequential_2\"\n",
            "_________________________________________________________________\n",
            "Layer (type)                 Output Shape              Param #   \n",
            "=================================================================\n",
            "conv2d_8 (Conv2D)            (None, 148, 148, 64)      1792      \n",
            "_________________________________________________________________\n",
            "max_pooling2d_8 (MaxPooling2 (None, 74, 74, 64)        0         \n",
            "_________________________________________________________________\n",
            "conv2d_9 (Conv2D)            (None, 72, 72, 64)        36928     \n",
            "_________________________________________________________________\n",
            "max_pooling2d_9 (MaxPooling2 (None, 36, 36, 64)        0         \n",
            "_________________________________________________________________\n",
            "conv2d_10 (Conv2D)           (None, 34, 34, 128)       73856     \n",
            "_________________________________________________________________\n",
            "max_pooling2d_10 (MaxPooling (None, 17, 17, 128)       0         \n",
            "_________________________________________________________________\n",
            "conv2d_11 (Conv2D)           (None, 15, 15, 128)       147584    \n",
            "_________________________________________________________________\n",
            "max_pooling2d_11 (MaxPooling (None, 7, 7, 128)         0         \n",
            "_________________________________________________________________\n",
            "flatten_2 (Flatten)          (None, 6272)              0         \n",
            "_________________________________________________________________\n",
            "dropout_2 (Dropout)          (None, 6272)              0         \n",
            "_________________________________________________________________\n",
            "dense_4 (Dense)              (None, 512)               3211776   \n",
            "_________________________________________________________________\n",
            "dense_5 (Dense)              (None, 6)                 3078      \n",
            "=================================================================\n",
            "Total params: 3,475,014\n",
            "Trainable params: 3,475,014\n",
            "Non-trainable params: 0\n",
            "_________________________________________________________________\n",
            "Epoch 1/15\n",
            "243/244 [============================>.] - ETA: 0s - loss: 1.7454 - acc: 0.2548Epoch 1/15\n",
            "244/244 [==============================] - 136s 558ms/step - loss: 1.7448 - acc: 0.2550 - val_loss: 1.4942 - val_acc: 0.3702\n",
            "Epoch 2/15\n",
            "243/244 [============================>.] - ETA: 0s - loss: 1.5567 - acc: 0.3625Epoch 1/15\n",
            "244/244 [==============================] - 132s 539ms/step - loss: 1.5565 - acc: 0.3628 - val_loss: 1.3141 - val_acc: 0.4625\n",
            "Epoch 3/15\n",
            "243/244 [============================>.] - ETA: 0s - loss: 1.4866 - acc: 0.3886Epoch 1/15\n",
            "244/244 [==============================] - 130s 532ms/step - loss: 1.4867 - acc: 0.3881 - val_loss: 1.4094 - val_acc: 0.3702\n",
            "Epoch 4/15\n",
            "243/244 [============================>.] - ETA: 0s - loss: 1.4344 - acc: 0.4078Epoch 1/15\n",
            "244/244 [==============================] - 127s 521ms/step - loss: 1.4351 - acc: 0.4080 - val_loss: 1.2980 - val_acc: 0.4798\n",
            "Epoch 5/15\n",
            "243/244 [============================>.] - ETA: 0s - loss: 1.4148 - acc: 0.4196Epoch 1/15\n",
            "244/244 [==============================] - 128s 523ms/step - loss: 1.4142 - acc: 0.4199 - val_loss: 1.3103 - val_acc: 0.4752\n",
            "Epoch 6/15\n",
            "243/244 [============================>.] - ETA: 0s - loss: 1.3886 - acc: 0.4431Epoch 1/15\n",
            "244/244 [==============================] - 127s 520ms/step - loss: 1.3881 - acc: 0.4431 - val_loss: 1.2153 - val_acc: 0.4913\n",
            "Epoch 7/15\n",
            "243/244 [============================>.] - ETA: 0s - loss: 1.3720 - acc: 0.4438Epoch 1/15\n",
            "244/244 [==============================] - 127s 519ms/step - loss: 1.3714 - acc: 0.4441 - val_loss: 1.2734 - val_acc: 0.4960\n",
            "Epoch 8/15\n",
            "243/244 [============================>.] - ETA: 0s - loss: 1.3756 - acc: 0.4429Epoch 1/15\n",
            "244/244 [==============================] - 128s 524ms/step - loss: 1.3745 - acc: 0.4432 - val_loss: 1.2061 - val_acc: 0.4983\n",
            "Epoch 9/15\n",
            "243/244 [============================>.] - ETA: 0s - loss: 1.3554 - acc: 0.4534Epoch 1/15\n",
            "244/244 [==============================] - 126s 518ms/step - loss: 1.3553 - acc: 0.4536 - val_loss: 1.4735 - val_acc: 0.4383\n",
            "Epoch 10/15\n",
            "243/244 [============================>.] - ETA: 0s - loss: 1.3415 - acc: 0.4559Epoch 1/15\n",
            "244/244 [==============================] - 128s 523ms/step - loss: 1.3404 - acc: 0.4563 - val_loss: 1.2251 - val_acc: 0.5202\n",
            "Epoch 11/15\n",
            "243/244 [============================>.] - ETA: 0s - loss: 1.3263 - acc: 0.4643Epoch 1/15\n",
            "244/244 [==============================] - 127s 520ms/step - loss: 1.3270 - acc: 0.4638 - val_loss: 1.3171 - val_acc: 0.5075\n",
            "Epoch 12/15\n",
            "243/244 [============================>.] - ETA: 0s - loss: 1.3319 - acc: 0.4592Epoch 1/15\n",
            "244/244 [==============================] - 127s 521ms/step - loss: 1.3330 - acc: 0.4588 - val_loss: 1.3397 - val_acc: 0.5006\n",
            "Epoch 13/15\n",
            "243/244 [============================>.] - ETA: 0s - loss: 1.3176 - acc: 0.4729Epoch 1/15\n",
            "244/244 [==============================] - 128s 523ms/step - loss: 1.3181 - acc: 0.4729 - val_loss: 1.6699 - val_acc: 0.3403\n",
            "Epoch 14/15\n",
            "243/244 [============================>.] - ETA: 0s - loss: 1.3211 - acc: 0.4719Epoch 1/15\n",
            "244/244 [==============================] - 130s 535ms/step - loss: 1.3215 - acc: 0.4715 - val_loss: 1.2568 - val_acc: 0.4775\n",
            "Epoch 15/15\n",
            "243/244 [============================>.] - ETA: 0s - loss: 1.3087 - acc: 0.4734Epoch 1/15\n",
            "244/244 [==============================] - 127s 521ms/step - loss: 1.3094 - acc: 0.4725 - val_loss: 1.4566 - val_acc: 0.4614\n"
          ],
          "name": "stdout"
        }
      ]
    },
    {
      "cell_type": "code",
      "metadata": {
        "id": "NGGf-qpAyZHa",
        "colab_type": "code",
        "outputId": "e4fcc504-e49a-4575-c868-6a07f4dac268",
        "colab": {
          "base_uri": "https://localhost:8080/",
          "height": 298
        }
      },
      "source": [
        "acc = history.history['acc']\n",
        "val_acc = history.history['val_acc']\n",
        "loss = history.history['loss']\n",
        "val_loss = history.history['val_loss']\n",
        "\n",
        "epochs = range(len(acc))\n",
        "\n",
        "plt.plot(epochs, acc, 'r', label='Training accuracy')\n",
        "plt.plot(epochs, val_acc, 'b', label='Validation accuracy')\n",
        "plt.title('Training and validation accuracy')\n",
        "plt.legend(loc=0)\n",
        "plt.figure()\n",
        "\n",
        "\n",
        "plt.show()"
      ],
      "execution_count": 0,
      "outputs": [
        {
          "output_type": "display_data",
          "data": {
            "image/png": "[encoded data removed]",
            "text/plain": [
              "<Figure size 432x288 with 1 Axes>"
            ]
          },
          "metadata": {
            "tags": []
          }
        },
        {
          "output_type": "display_data",
          "data": {
            "text/plain": [
              "<Figure size 432x288 with 0 Axes>"
            ]
          },
          "metadata": {
            "tags": []
          }
        }
      ]
    },
    {
      "cell_type": "code",
      "metadata": {
        "id": "aL4wQ9ktyZKQ",
        "colab_type": "code",
        "colab": {}
      },
      "source": [
        ""
      ],
      "execution_count": 0,
      "outputs": []
    },
    {
      "cell_type": "code",
      "metadata": {
        "id": "eKEMBfpGyZNf",
        "colab_type": "code",
        "colab": {}
      },
      "source": [
        ""
      ],
      "execution_count": 0,
      "outputs": []
    }
  ]
}