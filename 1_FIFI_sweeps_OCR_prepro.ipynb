{
 "cells": [
  {
   "cell_type": "markdown",
   "metadata": {},
   "source": [
    "### Preprocessing OCR and preparation of City of Seattle homeless encampment sweep pdf data for use with data viz and NLP of Find it Fix It requests to the City of Seattle (from a FOI request)\n",
    "\n",
    "PDFs downloaded from: https://www.seattle.gov/homelessness/unauthorized-encampments/encampment-removals"
   ]
  },
  {
   "cell_type": "code",
   "execution_count": 1,
   "metadata": {},
   "outputs": [],
   "source": [
    "#getting and working with data\n",
    "import pandas as pd\n",
    "import numpy as np\n",
    "import re\n",
    "import os\n",
    "import sys \n",
    "import datetime as dt\n",
    "import string\n",
    "#OCR related\n",
    "from PIL import Image \n",
    "import pytesseract \n",
    "from pdf2image import convert_from_path \n",
    "pytesseract.pytesseract.tesseract_cmd = r'C:\\Program Files\\Tesseract-OCR\\tesseract.exe'\n",
    "\n",
    "pd.set_option('display.max_rows', 500)\n",
    "pd.set_option('display.max_columns', 500)\n",
    "pd.set_option('display.width', 1000)\n",
    "pd.set_option('display.max_colwidth', -1)\n",
    "\n",
    "import warnings; warnings.simplefilter('ignore')\n",
    "np.set_printoptions(suppress=True)"
   ]
  },
  {
   "cell_type": "code",
   "execution_count": 2,
   "metadata": {},
   "outputs": [],
   "source": [
    "#paths \n",
    "pdf_path = 'C:/Users/Schindler/Documents/ProgrammingFun/FIFI/OCR/sweep_PDFs'\n",
    "jpeg_path = 'C:/Users/Schindler/Documents/ProgrammingFun/FIFI/OCR/sweep_JPEGs'\n",
    "text_path = 'C:/Users/Schindler/Documents/ProgrammingFun/FIFI/OCR/sweep_TXTs'"
   ]
  },
  {
   "cell_type": "code",
   "execution_count": 3,
   "metadata": {},
   "outputs": [
    {
     "name": "stdout",
     "output_type": "stream",
     "text": [
      "1 \n",
      " 8-27-18-Rainier-Corridor.pdf\n",
      "1\n"
     ]
    },
    {
     "data": {
      "text/plain": [
       "'C:/Users/Schindler/Documents/ProgrammingFun/FIFI/OCR/sweep_PDFs/8-27-18-Rainier-Corridor.pdf'"
      ]
     },
     "execution_count": 3,
     "metadata": {},
     "output_type": "execute_result"
    }
   ],
   "source": [
    "#list pdfs in path\n",
    "pdfs_in_path = os.listdir(pdf_path)\n",
    "print(len(pdfs_in_path), '\\n', pdfs_in_path[0])\n",
    "\n",
    "#create path names for pdfs in path\n",
    "pdf_path_names = []\n",
    "for pdf in pdfs_in_path:\n",
    "    path_name = pdf_path + '/' + pdf\n",
    "    pdf_path_names.append(path_name)\n",
    "\n",
    "print(len(pdf_path_names))\n",
    "pdf_path_names[0]"
   ]
  },
  {
   "cell_type": "code",
   "execution_count": 4,
   "metadata": {},
   "outputs": [],
   "source": [
    "#convert pdf to jpeg images\n",
    "#right now we only care about data contained on the fist page of the pdf\n",
    "page = convert_from_path(pdf_path_names[0], \n",
    "                         dpi=200, \n",
    "                         output_folder=jpeg_path, \n",
    "                         output_file=pdfs_in_path[0],\n",
    "                         first_page=1, last_page=1, \n",
    "                         fmt='jpeg')"
   ]
  },
  {
   "cell_type": "code",
   "execution_count": 5,
   "metadata": {},
   "outputs": [
    {
     "name": "stdout",
     "output_type": "stream",
     "text": [
      "1 \n",
      " 8-27-18-Rainier-Corridor.pdf0001-001.jpg\n",
      "1\n"
     ]
    },
    {
     "data": {
      "text/plain": [
       "'C:/Users/Schindler/Documents/ProgrammingFun/FIFI/OCR/sweep_JPEGs/8-27-18-Rainier-Corridor.pdf0001-001.jpg'"
      ]
     },
     "execution_count": 5,
     "metadata": {},
     "output_type": "execute_result"
    }
   ],
   "source": [
    "#list jpegs in path\n",
    "jpegs_in_path = os.listdir(jpeg_path)\n",
    "print(len(jpegs_in_path), '\\n', jpegs_in_path[0])\n",
    "\n",
    "#create path names for jpegs in path\n",
    "jpeg_path_names = []\n",
    "for jpeg in jpegs_in_path:\n",
    "    path_name = jpeg_path + '/' + jpeg\n",
    "    jpeg_path_names.append(path_name)\n",
    "\n",
    "print(len(jpeg_path_names))\n",
    "jpeg_path_names[0]"
   ]
  },
  {
   "cell_type": "code",
   "execution_count": 10,
   "metadata": {},
   "outputs": [],
   "source": [
    "#save text in output file\n",
    "outfile = \"out_text.txt\"\n",
    "f = open(outfile, \"a\")\n",
    "text = str(((pytesseract.image_to_string(Image.open(jpeg_path_names[0]))))) "
   ]
  },
  {
   "cell_type": "code",
   "execution_count": 11,
   "metadata": {},
   "outputs": [
    {
     "data": {
      "text/plain": [
       "'G)} city of Seattle SITE JOURNAL\\n\\nEncampment Response Team\\n\\nSITE JOURNAL CONTENTS\\n\\n. Completed Site Journal . Exhibit C: Outreach Report\\n. Exhibit A: Site Inspection Photos ° Exhibit D: Clean Up & Storage Photos\\n. Exhibit B: Site Posting Photos . Exhibit E: Storage Detail\\n\\nA. SITE INSPECTION\\nTo be filled out by the Field Coordinator prior to any Full Encampment Clean Up and as part of any Obstruction or Hazard Removal. Site Journals\\n\\nand photos should be saved in the appropriate folder in the G:\\\\FAC\\\\Encampments\\\\Encampment clean ups directory.\\n\\n \\n\\n \\n\\n \\n\\nSite: Rainier Corridor Date of First Inspection: _ 7/25/18\\nSite Address: I-90 Rainier Ave S Emphasis Zone Date of Clean-Up: 8/27-30/18\\n2496-01, 2443-01, 2654-04, 2298-\\nInspection By: — Christina Korpi SERIS# 04, 2218-06, 3214-01\\nReferred By: SERIS, Community Photos to FAS? Yes O No\\n\\n \\n\\nSITE OCCUPANCY DATA\\n\\n     \\n\\n \\n\\n \\n\\n \\n\\n \\n\\n \\n\\n \\n\\n \\n\\n \\n\\n \\n\\n \\n\\n \\n\\n \\n\\nDate of Inspection Structures Bed Rolls Vehicles Vaal\\n*Poplar & Norman 5 1 0 0 6\\n*Poplar & Bush 6 3 0 9\\n\\n*Poplar & Dean 10 2 0 2 14\\n\\n*Metro Stairs 7 5 1 0 13\\n\\n7/25/18 (TOTAL 28 11 1 2 42\\n\\nfrom complete\\n\\nzone)\\n\\nSITE CHARACTERISICS HEALTH CONDITIONS\\n\\nPark 0 Yes No Disorganized Yes (J No\\nSidewalk & Yes O No Garbage/Bagged Yes (1 No\\nWithin 50ft of a water body or wetland OO Yes No Garbage/Loose Yes (CI No\\nRoadway K Yes OJ No Garbage/Bulky Items Yes (J No\\nWithin 50ft of a Guardrail Ki Yes OJ No Garbage/Metal Yes (J No\\nHeavy Traffic Yes [I No Human Waste Kl Yes O No\\nNear Industrial Zone Oo Yes & No Rats/Mice 0 Yes No\\nForested Area 0 Yes No Hazardous Materials & Yes OO No\\nPlay Area O Yes & No Falling Tree or Limbs OO Yes No\\nRented Area O Yes & No Chemical Waste O Yes No\\nSlope Yes [1 No Fires Yes (CI No\\nSlide Zone O Yes & No Criminal Activity Yes (I No\\nFire Yes [J No Weapons O Yes & No\\nOther: O Yes & No Open Alcohol Yes (J No\\nOther: O Yes & No Sharps Yes (J No\\nOther: O Yes No Property Damage Kl Yes O No\\n\\nBB EXHIBIT A: SITE INSPECTION PHOTOS\\nDuring a site inspection, Field Coordinators should take photos of the following and store the photos in the appropriate G: Drive folder:\\ne Cross Street Signs e Photos of Individual Tents e Obstructions or Hazards\\ne General Photos of the Encampment e Debris Fields e —- Vehicles/RVs /License Plates\\n\\n \\n\\n \\n\\nPage 1'"
      ]
     },
     "execution_count": 11,
     "metadata": {},
     "output_type": "execute_result"
    }
   ],
   "source": [
    "text"
   ]
  }
 ],
 "metadata": {
  "kernelspec": {
   "display_name": "Python 3",
   "language": "python",
   "name": "python3"
  },
  "language_info": {
   "codemirror_mode": {
    "name": "ipython",
    "version": 3
   },
   "file_extension": ".py",
   "mimetype": "text/x-python",
   "name": "python",
   "nbconvert_exporter": "python",
   "pygments_lexer": "ipython3",
   "version": "3.6.9"
  }
 },
 "nbformat": 4,
 "nbformat_minor": 2
}
