{
 "cells": [
  {
   "cell_type": "markdown",
   "metadata": {},
   "source": [
    "### Preprocessing OCR and preparation of City of Seattle homeless encampment sweep pdf data for use with data viz and NLP of Find it Fix It requests to the City of Seattle (from a FOI request)\n",
    "\n",
    "PDFs downloaded from: https://www.seattle.gov/homelessness/unauthorized-encampments/encampment-removals"
   ]
  },
  {
   "cell_type": "code",
   "execution_count": 1,
   "metadata": {},
   "outputs": [],
   "source": [
    "#getting and working with data\n",
    "import pandas as pd\n",
    "import numpy as np\n",
    "import re\n",
    "import os\n",
    "import sys \n",
    "import datetime as dt\n",
    "import string\n",
    "#OCR related\n",
    "from PIL import Image \n",
    "import pytesseract \n",
    "from pdf2image import convert_from_path \n",
    "pytesseract.pytesseract.tesseract_cmd = r'C:\\Program Files\\Tesseract-OCR\\tesseract.exe'\n",
    "\n",
    "pd.set_option('display.max_rows', 500)\n",
    "pd.set_option('display.max_columns', 500)\n",
    "pd.set_option('display.width', 1000)\n",
    "pd.set_option('display.max_colwidth', -1)\n",
    "\n",
    "import warnings; warnings.simplefilter('ignore')\n",
    "np.set_printoptions(suppress=True)"
   ]
  },
  {
   "cell_type": "markdown",
   "metadata": {},
   "source": [
    "#### General plan:\n",
    "\n",
    "1. convert each pdf to a jpeg (using pdf2image convert_from_path)\n",
    "2. convert text in each jpeg to text (using pytesseract and PIL)\n",
    "\n",
    "3. save the following info from the extracted text:\n",
    "    * site_address\n",
    "    * date_insp\n",
    "    * date_cleanup\n",
    "    * referred_by"
   ]
  },
  {
   "cell_type": "code",
   "execution_count": 11,
   "metadata": {},
   "outputs": [],
   "source": [
    "#paths \n",
    "pdf_path = 'C:/Users/Schindler/Documents/ProgrammingFun/FIFI/OCR/sweep_PDFs'\n",
    "jpeg_path = 'C:/Users/Schindler/Documents/ProgrammingFun/FIFI/OCR/sweep_JPEGs'\n",
    "text_path = 'C:/Users/Schindler/Documents/ProgrammingFun/FIFI/OCR/sweep_TXTs'"
   ]
  },
  {
   "cell_type": "code",
   "execution_count": 3,
   "metadata": {},
   "outputs": [
    {
     "name": "stdout",
     "output_type": "stream",
     "text": [
      "104 \n",
      " 01-30-19 6th Ave and Yesler.pdf\n",
      "104\n"
     ]
    },
    {
     "data": {
      "text/plain": [
       "['C:/Users/Schindler/Documents/ProgrammingFun/FIFI/OCR/sweep_PDFs/01-30-19 6th Ave and Yesler.pdf',\n",
       " 'C:/Users/Schindler/Documents/ProgrammingFun/FIFI/OCR/sweep_PDFs/02-26-19 SW Florida St from 13th Ave SW to 11th Ave SW.pdf',\n",
       " 'C:/Users/Schindler/Documents/ProgrammingFun/FIFI/OCR/sweep_PDFs/03.05.2019-Aurora-Ave-N-N-128th-St.pdf']"
      ]
     },
     "execution_count": 3,
     "metadata": {},
     "output_type": "execute_result"
    }
   ],
   "source": [
    "#list pdfs in path\n",
    "pdfs_in_path = os.listdir(pdf_path)\n",
    "print(len(pdfs_in_path), '\\n', pdfs_in_path[0])\n",
    "\n",
    "#create path names for pdfs in path\n",
    "pdf_path_names = []\n",
    "for pdf in pdfs_in_path:\n",
    "    path_name = pdf_path + '/' + pdf\n",
    "    pdf_path_names.append(path_name)\n",
    "\n",
    "print(len(pdf_path_names))\n",
    "pdf_path_names[0:3]"
   ]
  },
  {
   "cell_type": "code",
   "execution_count": 16,
   "metadata": {},
   "outputs": [
    {
     "name": "stdout",
     "output_type": "stream",
     "text": [
      "C:/Users/Schindler/Documents/ProgrammingFun/FIFI/OCR/sweep_PDFs/06-26-19 3rd _amp_ Walker OBSTRUCTION.pdf\n"
     ]
    }
   ],
   "source": [
    "#convert pdf to jpeg images\n",
    "#right now we only care about data contained on the fist page of the pdf\n",
    "\n",
    "for pdf in pdf_path_names:\n",
    "    try:\n",
    "        convert_from_path(pdf, \n",
    "                      dpi=200, \n",
    "                      output_file=pdf,\n",
    "                      output_folder=jpeg_path, \n",
    "                      first_page=1, last_page=1, \n",
    "                      fmt='jpeg')\n",
    "    except:\n",
    "        print(pdf)"
   ]
  },
  {
   "cell_type": "code",
   "execution_count": 18,
   "metadata": {},
   "outputs": [
    {
     "name": "stdout",
     "output_type": "stream",
     "text": [
      "103 \n",
      " 01-30-19 6th Ave and Yesler.pdf0001-01.jpg\n",
      "103\n"
     ]
    },
    {
     "data": {
      "text/plain": [
       "'C:/Users/Schindler/Documents/ProgrammingFun/FIFI/OCR/sweep_JPEGs/01-30-19 6th Ave and Yesler.pdf0001-01.jpg'"
      ]
     },
     "execution_count": 18,
     "metadata": {},
     "output_type": "execute_result"
    }
   ],
   "source": [
    "#list jpegs in path\n",
    "jpegs_in_path = os.listdir(jpeg_path)\n",
    "print(len(jpegs_in_path), '\\n', jpegs_in_path[0])\n",
    "\n",
    "#create path names for jpegs in path, jpegs have more than one page, save each page separately\n",
    "jpeg_path_names = []\n",
    "for jpeg in jpegs_in_path:\n",
    "    path_name = jpeg_path + '/' + jpeg\n",
    "    jpeg_path_names.append(path_name)\n",
    "\n",
    "print(len(jpeg_path_names))\n",
    "jpeg_path_names[0]"
   ]
  },
  {
   "cell_type": "code",
   "execution_count": 82,
   "metadata": {},
   "outputs": [],
   "source": [
    "text = str(((pytesseract.image_to_string(Image.open(jpeg_path_names[0]))))) \n",
    "text_split = text.split(\"\\n\")"
   ]
  },
  {
   "cell_type": "code",
   "execution_count": 21,
   "metadata": {
    "scrolled": true
   },
   "outputs": [
    {
     "data": {
      "text/plain": [
       "['G)} city of Seattle SITE JOURNAL',\n",
       " '',\n",
       " 'Encampment Response Team',\n",
       " '',\n",
       " 'SITE JOURNAL CONTENTS',\n",
       " '',\n",
       " '. Completed Site Journal . Exhibit C: Outreach Report',\n",
       " '. Exhibit A: Site Inspection Photos ° Exhibit D: Clean Up & Storage Photos',\n",
       " '. Exhibit B: Site Posting Photos . Exhibit E: Storage Detail',\n",
       " '',\n",
       " 'A. SITE INSPECTION',\n",
       " '',\n",
       " 'To be filled out by the Field Coordinator prior to any Full Encampment Clean Up and as part of any Obstruction or Hazard Removal. Site Journals',\n",
       " '',\n",
       " 'and photos should be saved in the appropriate folder in the G:\\\\FAC\\\\Encampments\\\\Encampment clean ups directory.',\n",
       " '',\n",
       " ' ',\n",
       " '',\n",
       " ' ',\n",
       " '',\n",
       " ' ',\n",
       " '',\n",
       " 'Site: 6\" Ave and Yesler Date of First Inspection: 01-14-19',\n",
       " '',\n",
       " 'Site Address: 6\" Ave and Yesler Date of Clean-Up: 01/30/2019',\n",
       " 'Inspection By: — Laura Beck CSR # Not Applicable',\n",
       " '',\n",
       " 'Referred By: SERIS, Community Photos to FAS? (1 Yes O No',\n",
       " '',\n",
       " ' ',\n",
       " '',\n",
       " 'SITE OCCUPANCY DATA',\n",
       " '',\n",
       " ' ',\n",
       " '',\n",
       " ' ',\n",
       " '',\n",
       " ' ',\n",
       " '',\n",
       " ' ',\n",
       " '',\n",
       " ' ',\n",
       " '',\n",
       " ' ',\n",
       " '',\n",
       " ' ',\n",
       " '',\n",
       " ' ',\n",
       " '',\n",
       " ' ',\n",
       " '',\n",
       " ' ',\n",
       " '',\n",
       " ' ',\n",
       " '',\n",
       " ' ',\n",
       " '',\n",
       " ' ',\n",
       " '',\n",
       " '  ',\n",
       " '',\n",
       " 'Date of Inspection Structures Bed Rolls Vehicles',\n",
       " '01-14-19 14 2 0 0 16',\n",
       " '',\n",
       " 'SITE CHARACTERISICS HEALTH CONDITIONS',\n",
       " '',\n",
       " 'Park 0 Yes No Disorganized Yes [IJ No',\n",
       " 'Sidewalk O Yes & No Garbage/Bagged & Yes O No',\n",
       " 'Within 50ft of a water body or wetland O Yes No Garbage/Loose Yes [I No',\n",
       " 'Roadway 0 Yes No Garbage/Bulky Items Yes [CI No',\n",
       " 'Within 50ft of a Guardrail XK Yes OJ No Garbage/Metal XK Yes OJ No',\n",
       " 'Heavy Traffic Yes [I No Human Waste Yes [I No',\n",
       " 'Near Industrial Zone 0 Yes No Rats/Mice Ol Yes & No',\n",
       " 'Forested Area 0 Yes No Hazardous Materials Yes [1 No',\n",
       " 'Play Area O Yes No Falling Tree or Limbs O Yes & No',\n",
       " 'Rented Area O Yes No Chemical Waste & Yes OO No',\n",
       " 'Slope O Yes No Fires O Yes & No',\n",
       " 'Slide Zone O Yes No Criminal Activity O Yes & No',\n",
       " 'Fire O Yes No Weapons 0 Yes No',\n",
       " 'Other: O Yes Open Alcohol Yes [CI No',\n",
       " 'Other: O Yes Sharps Xl Yes OJ No',\n",
       " 'Other: O Yes Property Damage O Yes &X No',\n",
       " '',\n",
       " '= | s',\n",
       " '',\n",
       " ' ',\n",
       " '',\n",
       " ' ',\n",
       " '',\n",
       " ' ',\n",
       " '',\n",
       " 'BD EXHIBIT A: SITE INSPECTION PHOTOS',\n",
       " 'During a site inspection, Field Coordinators should take photos of the following and store the photos in the appropriate G: Drive folder:',\n",
       " 'e Cross Street Signs e — Photos of Individual Tents e = Obstructions or Hazards',\n",
       " 'e General Photos of the Encampment e Debris Fields e Vehicles/RVs /License Plates',\n",
       " '',\n",
       " 'Page 1']"
      ]
     },
     "execution_count": 21,
     "metadata": {},
     "output_type": "execute_result"
    }
   ],
   "source": [
    "text_split"
   ]
  },
  {
   "cell_type": "code",
   "execution_count": 83,
   "metadata": {},
   "outputs": [
    {
     "name": "stdout",
     "output_type": "stream",
     "text": [
      "01-14-19\n",
      "6\" Ave and Yesler\n",
      "01/30/2019\n",
      "SERIS, Community\n"
     ]
    }
   ],
   "source": [
    "site_insp = [s for s in text_split if \"Site:\" in s]\n",
    "insp_date = re.findall(r\"Inspection.*\", site_insp[0])[0].split(\" \")[1]\n",
    "print(insp_date)\n",
    "add_cleanup = [s for s in text_split if \"Site Address\" in s]\n",
    "site_add = re.findall(r\"Address: (.*) Date\", add_cleanup[0])[0]\n",
    "print(site_add)\n",
    "date = re.findall(r\"Clean-Up: (.*)\", add_cleanup[0])[0]\n",
    "print(date)\n",
    "ref = [s for s in text_split if \"Referred By:\" in s]\n",
    "ref_by = re.findall(r\"Referred By: (.*) Photos\", ref[0])[0]\n",
    "print(ref_by)"
   ]
  }
 ],
 "metadata": {
  "kernelspec": {
   "display_name": "Python 3",
   "language": "python",
   "name": "python3"
  },
  "language_info": {
   "codemirror_mode": {
    "name": "ipython",
    "version": 3
   },
   "file_extension": ".py",
   "mimetype": "text/x-python",
   "name": "python",
   "nbconvert_exporter": "python",
   "pygments_lexer": "ipython3",
   "version": "3.6.9"
  }
 },
 "nbformat": 4,
 "nbformat_minor": 2
}
